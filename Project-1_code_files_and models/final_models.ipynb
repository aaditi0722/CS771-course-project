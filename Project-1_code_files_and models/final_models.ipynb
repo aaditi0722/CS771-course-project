{
  "nbformat": 4,
  "nbformat_minor": 0,
  "metadata": {
    "colab": {
      "provenance": []
    },
    "kernelspec": {
      "name": "python3",
      "display_name": "Python 3"
    },
    "language_info": {
      "name": "python"
    }
  },
  "cells": [
    {
      "cell_type": "markdown",
      "source": [
        "Dataset 1"
      ],
      "metadata": {
        "id": "pbhoMHmDG_Rb"
      }
    },
    {
      "cell_type": "code",
      "source": [
        "import numpy as np\n",
        "import pandas as pd\n",
        "import tensorflow as tf\n",
        "from tensorflow.keras.layers import Conv1D, GlobalMaxPooling1D, Flatten # Import Flatten\n",
        "import random\n",
        "from tensorflow.keras.models import Sequential\n",
        "from tensorflow.keras.layers import Embedding, SimpleRNN, Dense\n",
        "from sklearn.model_selection import train_test_split\n",
        "from sklearn.metrics import accuracy_score\n",
        "from sklearn.linear_model import LogisticRegression\n",
        "from sklearn.ensemble import RandomForestClassifier\n",
        "import xgboost as xgb\n",
        "from tensorflow.keras.preprocessing.sequence import pad_sequences\n",
        "\n",
        "# Preprocessing function to map emoticons to integer values\n",
        "def preprocess_emoticons(train_path, test_path):\n",
        "    \"\"\"\n",
        "    Preprocess the input emoticons in the dataset by creating a unique integer mapping\n",
        "    for each distinct emoticon. This function returns preprocessed train and test datasets\n",
        "    along with the emoticon-to-integer mapping.\n",
        "\n",
        "    Args:\n",
        "    train_path (str): Path to the training dataset CSV file.\n",
        "    test_path (str): Path to the test dataset CSV file.\n",
        "\n",
        "    Returns:\n",
        "    train_input (pd.DataFrame): Preprocessed training dataset with mapped integers.\n",
        "    test_data (pd.DataFrame): Preprocessed test dataset with mapped integers.\n",
        "    emoticon_to_int (dict): Mapping from emoticons to unique integers.\n",
        "    \"\"\"\n",
        "    # Load train and test datasets\n",
        "    train_input = pd.read_csv(train_path)  # Assuming 'input_emoticon' and 'labels' columns\n",
        "    test_data = pd.read_csv(test_path)  # Assuming test_data has similar structure\n",
        "\n",
        "    # Step 1: Extract all unique emoticons from the training dataset\n",
        "    all_emoticons = ''.join(train_input['input_emoticon'].values)\n",
        "    unique_emoticons = sorted(set(all_emoticons))  # Sort for consistent mapping\n",
        "    print(len(unique_emoticons))\n",
        "\n",
        "    # Step 2: Create the emoticon to integer mapping\n",
        "    emoticon_to_int = {emoticon: i for i, emoticon in enumerate(unique_emoticons)}\n",
        "\n",
        "    # Step 3: Preprocessing function to map emoticons to their corresponding integer values\n",
        "    def map_emoticons_to_int(emoticon_string):\n",
        "        return [emoticon_to_int[emoticon] for emoticon in emoticon_string]\n",
        "\n",
        "    # Apply the mapping to train and test datasets\n",
        "    train_input['mapped_input'] = train_input['input_emoticon'].apply(map_emoticons_to_int)\n",
        "    test_data['mapped_input'] = test_data['input_emoticon'].apply(map_emoticons_to_int)\n",
        "\n",
        "    return train_input, test_data, emoticon_to_int\n",
        "\n",
        "# Load and preprocess datasets\n",
        "train_path = \"/content/train_emoticon.csv\"\n",
        "test_path = \"/content/valid_emoticon.csv\"\n",
        "train_input, test_data, emoticon_to_int = preprocess_emoticons(train_path, test_path)\n",
        "\n",
        "# Extract features and labels\n",
        "X_train_raw = train_input['mapped_input'].tolist()\n",
        "y_train = train_input['label'].values\n",
        "X_test_raw = test_data['mapped_input'].tolist()\n",
        "y_test = test_data['label'].values\n",
        "\n",
        "# Step 1: Pad sequences to ensure all have the same length (13 in this case)\n",
        "max_length = 13  # Since each emoticon string is of length 13\n",
        "X_train = pad_sequences(X_train_raw, maxlen=max_length, padding='post', truncating='post')\n",
        "X_test = pad_sequences(X_test_raw, maxlen=max_length, padding='post', truncating='post')\n",
        "\n",
        "# Step 2: Split the training data into train and validation sets\n",
        "X_train, X_val, y_train, y_val = train_test_split(X_train, y_train, test_size=0.2, random_state=42)\n",
        "\n",
        "vocab_size = len(emoticon_to_int)  # Number of unique emoticons\n",
        "embedding_dim = 10\n",
        "num_filters = 8\n",
        "kernel_size = 3\n",
        "sequence_length = max_length  # Length of each input sequence\n",
        "\n",
        "# Build the CNN model\n",
        "model = Sequential([\n",
        "    Embedding(input_dim=vocab_size, output_dim=embedding_dim, input_length=sequence_length),\n",
        "    Conv1D(filters=num_filters, kernel_size=kernel_size, activation='relu'),\n",
        "    Conv1D(filters=num_filters, kernel_size=kernel_size, activation='relu'),\n",
        "    Flatten(),\n",
        "    # Dense(8, activation='relu'),\n",
        "    Dense(1, activation='sigmoid')  # Binary classification\n",
        "])\n",
        "\n",
        "# Compile the model\n",
        "model.compile(optimizer='adam', loss='binary_crossentropy', metrics=['accuracy'])\n",
        "\n",
        "# Step 4: Train the CNN model\n",
        "history = model.fit(X_train, y_train, epochs=10, validation_data=(X_val, y_val), batch_size=16)\n",
        "\n",
        "# Step 5: Evaluate the model on the test set\n",
        "test_loss, test_accuracy = model.evaluate(X_test, y_test)\n",
        "print(f\"Test Loss: {test_loss}\")\n",
        "print(f\"Test Accuracy: {test_accuracy}\")\n",
        "\n",
        "# Print validation accuracy per epoch\n",
        "for epoch, val_acc in enumerate(history.history['val_accuracy']):\n",
        "    print(f\"Epoch {epoch + 1}: Validation Accuracy = {val_acc}\")\n",
        "print(model.summary())"
      ],
      "metadata": {
        "colab": {
          "base_uri": "https://localhost:8080/",
          "height": 947
        },
        "id": "YU_LQvnQHCYP",
        "outputId": "bae4e5ba-c630-4397-c50f-7eea99e952d3"
      },
      "execution_count": 3,
      "outputs": [
        {
          "output_type": "stream",
          "name": "stdout",
          "text": [
            "214\n",
            "Epoch 1/10\n"
          ]
        },
        {
          "output_type": "stream",
          "name": "stderr",
          "text": [
            "/usr/local/lib/python3.10/dist-packages/keras/src/layers/core/embedding.py:90: UserWarning: Argument `input_length` is deprecated. Just remove it.\n",
            "  warnings.warn(\n"
          ]
        },
        {
          "output_type": "stream",
          "name": "stdout",
          "text": [
            "\u001b[1m354/354\u001b[0m \u001b[32m━━━━━━━━━━━━━━━━━━━━\u001b[0m\u001b[37m\u001b[0m \u001b[1m3s\u001b[0m 3ms/step - accuracy: 0.5415 - loss: 0.6842 - val_accuracy: 0.8672 - val_loss: 0.3377\n",
            "Epoch 2/10\n",
            "\u001b[1m354/354\u001b[0m \u001b[32m━━━━━━━━━━━━━━━━━━━━\u001b[0m\u001b[37m\u001b[0m \u001b[1m1s\u001b[0m 2ms/step - accuracy: 0.8793 - loss: 0.2942 - val_accuracy: 0.9244 - val_loss: 0.1946\n",
            "Epoch 3/10\n",
            "\u001b[1m354/354\u001b[0m \u001b[32m━━━━━━━━━━━━━━━━━━━━\u001b[0m\u001b[37m\u001b[0m \u001b[1m1s\u001b[0m 2ms/step - accuracy: 0.9300 - loss: 0.1861 - val_accuracy: 0.9379 - val_loss: 0.1583\n",
            "Epoch 4/10\n",
            "\u001b[1m354/354\u001b[0m \u001b[32m━━━━━━━━━━━━━━━━━━━━\u001b[0m\u001b[37m\u001b[0m \u001b[1m1s\u001b[0m 2ms/step - accuracy: 0.9553 - loss: 0.1296 - val_accuracy: 0.9477 - val_loss: 0.1333\n",
            "Epoch 5/10\n",
            "\u001b[1m354/354\u001b[0m \u001b[32m━━━━━━━━━━━━━━━━━━━━\u001b[0m\u001b[37m\u001b[0m \u001b[1m1s\u001b[0m 2ms/step - accuracy: 0.9694 - loss: 0.1051 - val_accuracy: 0.9548 - val_loss: 0.1198\n",
            "Epoch 6/10\n",
            "\u001b[1m354/354\u001b[0m \u001b[32m━━━━━━━━━━━━━━━━━━━━\u001b[0m\u001b[37m\u001b[0m \u001b[1m2s\u001b[0m 4ms/step - accuracy: 0.9752 - loss: 0.0816 - val_accuracy: 0.9541 - val_loss: 0.1077\n",
            "Epoch 7/10\n",
            "\u001b[1m354/354\u001b[0m \u001b[32m━━━━━━━━━━━━━━━━━━━━\u001b[0m\u001b[37m\u001b[0m \u001b[1m3s\u001b[0m 4ms/step - accuracy: 0.9806 - loss: 0.0693 - val_accuracy: 0.9626 - val_loss: 0.1045\n",
            "Epoch 8/10\n",
            "\u001b[1m354/354\u001b[0m \u001b[32m━━━━━━━━━━━━━━━━━━━━\u001b[0m\u001b[37m\u001b[0m \u001b[1m1s\u001b[0m 3ms/step - accuracy: 0.9820 - loss: 0.0570 - val_accuracy: 0.9548 - val_loss: 0.0961\n",
            "Epoch 9/10\n",
            "\u001b[1m354/354\u001b[0m \u001b[32m━━━━━━━━━━━━━━━━━━━━\u001b[0m\u001b[37m\u001b[0m \u001b[1m1s\u001b[0m 2ms/step - accuracy: 0.9855 - loss: 0.0520 - val_accuracy: 0.9647 - val_loss: 0.0923\n",
            "Epoch 10/10\n",
            "\u001b[1m354/354\u001b[0m \u001b[32m━━━━━━━━━━━━━━━━━━━━\u001b[0m\u001b[37m\u001b[0m \u001b[1m1s\u001b[0m 2ms/step - accuracy: 0.9867 - loss: 0.0457 - val_accuracy: 0.9626 - val_loss: 0.0914\n",
            "\u001b[1m16/16\u001b[0m \u001b[32m━━━━━━━━━━━━━━━━━━━━\u001b[0m\u001b[37m\u001b[0m \u001b[1m0s\u001b[0m 2ms/step - accuracy: 0.9777 - loss: 0.0654 \n",
            "Test Loss: 0.06936686486005783\n",
            "Test Accuracy: 0.9795501232147217\n",
            "Epoch 1: Validation Accuracy = 0.8672316670417786\n",
            "Epoch 2: Validation Accuracy = 0.924435019493103\n",
            "Epoch 3: Validation Accuracy = 0.9378530979156494\n",
            "Epoch 4: Validation Accuracy = 0.9477401375770569\n",
            "Epoch 5: Validation Accuracy = 0.9548022747039795\n",
            "Epoch 6: Validation Accuracy = 0.9540960192680359\n",
            "Epoch 7: Validation Accuracy = 0.9625706076622009\n",
            "Epoch 8: Validation Accuracy = 0.9548022747039795\n",
            "Epoch 9: Validation Accuracy = 0.9646892547607422\n",
            "Epoch 10: Validation Accuracy = 0.9625706076622009\n"
          ]
        },
        {
          "output_type": "display_data",
          "data": {
            "text/plain": [
              "\u001b[1mModel: \"sequential\"\u001b[0m\n"
            ],
            "text/html": [
              "<pre style=\"white-space:pre;overflow-x:auto;line-height:normal;font-family:Menlo,'DejaVu Sans Mono',consolas,'Courier New',monospace\"><span style=\"font-weight: bold\">Model: \"sequential\"</span>\n",
              "</pre>\n"
            ]
          },
          "metadata": {}
        },
        {
          "output_type": "display_data",
          "data": {
            "text/plain": [
              "┏━━━━━━━━━━━━━━━━━━━━━━━━━━━━━━━━━━━━━━┳━━━━━━━━━━━━━━━━━━━━━━━━━━━━━┳━━━━━━━━━━━━━━━━━┓\n",
              "┃\u001b[1m \u001b[0m\u001b[1mLayer (type)                        \u001b[0m\u001b[1m \u001b[0m┃\u001b[1m \u001b[0m\u001b[1mOutput Shape               \u001b[0m\u001b[1m \u001b[0m┃\u001b[1m \u001b[0m\u001b[1m        Param #\u001b[0m\u001b[1m \u001b[0m┃\n",
              "┡━━━━━━━━━━━━━━━━━━━━━━━━━━━━━━━━━━━━━━╇━━━━━━━━━━━━━━━━━━━━━━━━━━━━━╇━━━━━━━━━━━━━━━━━┩\n",
              "│ embedding_2 (\u001b[38;5;33mEmbedding\u001b[0m)              │ (\u001b[38;5;34m16\u001b[0m, \u001b[38;5;34m13\u001b[0m, \u001b[38;5;34m10\u001b[0m)                │           \u001b[38;5;34m2,140\u001b[0m │\n",
              "├──────────────────────────────────────┼─────────────────────────────┼─────────────────┤\n",
              "│ conv1d_4 (\u001b[38;5;33mConv1D\u001b[0m)                    │ (\u001b[38;5;34m16\u001b[0m, \u001b[38;5;34m11\u001b[0m, \u001b[38;5;34m8\u001b[0m)                 │             \u001b[38;5;34m248\u001b[0m │\n",
              "├──────────────────────────────────────┼─────────────────────────────┼─────────────────┤\n",
              "│ conv1d_5 (\u001b[38;5;33mConv1D\u001b[0m)                    │ (\u001b[38;5;34m16\u001b[0m, \u001b[38;5;34m9\u001b[0m, \u001b[38;5;34m8\u001b[0m)                  │             \u001b[38;5;34m200\u001b[0m │\n",
              "├──────────────────────────────────────┼─────────────────────────────┼─────────────────┤\n",
              "│ flatten (\u001b[38;5;33mFlatten\u001b[0m)                    │ (\u001b[38;5;34m16\u001b[0m, \u001b[38;5;34m72\u001b[0m)                    │               \u001b[38;5;34m0\u001b[0m │\n",
              "├──────────────────────────────────────┼─────────────────────────────┼─────────────────┤\n",
              "│ dense (\u001b[38;5;33mDense\u001b[0m)                        │ (\u001b[38;5;34m16\u001b[0m, \u001b[38;5;34m1\u001b[0m)                     │              \u001b[38;5;34m73\u001b[0m │\n",
              "└──────────────────────────────────────┴─────────────────────────────┴─────────────────┘\n"
            ],
            "text/html": [
              "<pre style=\"white-space:pre;overflow-x:auto;line-height:normal;font-family:Menlo,'DejaVu Sans Mono',consolas,'Courier New',monospace\">┏━━━━━━━━━━━━━━━━━━━━━━━━━━━━━━━━━━━━━━┳━━━━━━━━━━━━━━━━━━━━━━━━━━━━━┳━━━━━━━━━━━━━━━━━┓\n",
              "┃<span style=\"font-weight: bold\"> Layer (type)                         </span>┃<span style=\"font-weight: bold\"> Output Shape                </span>┃<span style=\"font-weight: bold\">         Param # </span>┃\n",
              "┡━━━━━━━━━━━━━━━━━━━━━━━━━━━━━━━━━━━━━━╇━━━━━━━━━━━━━━━━━━━━━━━━━━━━━╇━━━━━━━━━━━━━━━━━┩\n",
              "│ embedding_2 (<span style=\"color: #0087ff; text-decoration-color: #0087ff\">Embedding</span>)              │ (<span style=\"color: #00af00; text-decoration-color: #00af00\">16</span>, <span style=\"color: #00af00; text-decoration-color: #00af00\">13</span>, <span style=\"color: #00af00; text-decoration-color: #00af00\">10</span>)                │           <span style=\"color: #00af00; text-decoration-color: #00af00\">2,140</span> │\n",
              "├──────────────────────────────────────┼─────────────────────────────┼─────────────────┤\n",
              "│ conv1d_4 (<span style=\"color: #0087ff; text-decoration-color: #0087ff\">Conv1D</span>)                    │ (<span style=\"color: #00af00; text-decoration-color: #00af00\">16</span>, <span style=\"color: #00af00; text-decoration-color: #00af00\">11</span>, <span style=\"color: #00af00; text-decoration-color: #00af00\">8</span>)                 │             <span style=\"color: #00af00; text-decoration-color: #00af00\">248</span> │\n",
              "├──────────────────────────────────────┼─────────────────────────────┼─────────────────┤\n",
              "│ conv1d_5 (<span style=\"color: #0087ff; text-decoration-color: #0087ff\">Conv1D</span>)                    │ (<span style=\"color: #00af00; text-decoration-color: #00af00\">16</span>, <span style=\"color: #00af00; text-decoration-color: #00af00\">9</span>, <span style=\"color: #00af00; text-decoration-color: #00af00\">8</span>)                  │             <span style=\"color: #00af00; text-decoration-color: #00af00\">200</span> │\n",
              "├──────────────────────────────────────┼─────────────────────────────┼─────────────────┤\n",
              "│ flatten (<span style=\"color: #0087ff; text-decoration-color: #0087ff\">Flatten</span>)                    │ (<span style=\"color: #00af00; text-decoration-color: #00af00\">16</span>, <span style=\"color: #00af00; text-decoration-color: #00af00\">72</span>)                    │               <span style=\"color: #00af00; text-decoration-color: #00af00\">0</span> │\n",
              "├──────────────────────────────────────┼─────────────────────────────┼─────────────────┤\n",
              "│ dense (<span style=\"color: #0087ff; text-decoration-color: #0087ff\">Dense</span>)                        │ (<span style=\"color: #00af00; text-decoration-color: #00af00\">16</span>, <span style=\"color: #00af00; text-decoration-color: #00af00\">1</span>)                     │              <span style=\"color: #00af00; text-decoration-color: #00af00\">73</span> │\n",
              "└──────────────────────────────────────┴─────────────────────────────┴─────────────────┘\n",
              "</pre>\n"
            ]
          },
          "metadata": {}
        },
        {
          "output_type": "display_data",
          "data": {
            "text/plain": [
              "\u001b[1m Total params: \u001b[0m\u001b[38;5;34m7,985\u001b[0m (31.20 KB)\n"
            ],
            "text/html": [
              "<pre style=\"white-space:pre;overflow-x:auto;line-height:normal;font-family:Menlo,'DejaVu Sans Mono',consolas,'Courier New',monospace\"><span style=\"font-weight: bold\"> Total params: </span><span style=\"color: #00af00; text-decoration-color: #00af00\">7,985</span> (31.20 KB)\n",
              "</pre>\n"
            ]
          },
          "metadata": {}
        },
        {
          "output_type": "display_data",
          "data": {
            "text/plain": [
              "\u001b[1m Trainable params: \u001b[0m\u001b[38;5;34m2,661\u001b[0m (10.39 KB)\n"
            ],
            "text/html": [
              "<pre style=\"white-space:pre;overflow-x:auto;line-height:normal;font-family:Menlo,'DejaVu Sans Mono',consolas,'Courier New',monospace\"><span style=\"font-weight: bold\"> Trainable params: </span><span style=\"color: #00af00; text-decoration-color: #00af00\">2,661</span> (10.39 KB)\n",
              "</pre>\n"
            ]
          },
          "metadata": {}
        },
        {
          "output_type": "display_data",
          "data": {
            "text/plain": [
              "\u001b[1m Non-trainable params: \u001b[0m\u001b[38;5;34m0\u001b[0m (0.00 B)\n"
            ],
            "text/html": [
              "<pre style=\"white-space:pre;overflow-x:auto;line-height:normal;font-family:Menlo,'DejaVu Sans Mono',consolas,'Courier New',monospace\"><span style=\"font-weight: bold\"> Non-trainable params: </span><span style=\"color: #00af00; text-decoration-color: #00af00\">0</span> (0.00 B)\n",
              "</pre>\n"
            ]
          },
          "metadata": {}
        },
        {
          "output_type": "display_data",
          "data": {
            "text/plain": [
              "\u001b[1m Optimizer params: \u001b[0m\u001b[38;5;34m5,324\u001b[0m (20.80 KB)\n"
            ],
            "text/html": [
              "<pre style=\"white-space:pre;overflow-x:auto;line-height:normal;font-family:Menlo,'DejaVu Sans Mono',consolas,'Courier New',monospace\"><span style=\"font-weight: bold\"> Optimizer params: </span><span style=\"color: #00af00; text-decoration-color: #00af00\">5,324</span> (20.80 KB)\n",
              "</pre>\n"
            ]
          },
          "metadata": {}
        },
        {
          "output_type": "stream",
          "name": "stdout",
          "text": [
            "None\n"
          ]
        }
      ]
    },
    {
      "cell_type": "markdown",
      "source": [
        "Dataset 2"
      ],
      "metadata": {
        "id": "hI081pkSJqtW"
      }
    },
    {
      "cell_type": "code",
      "source": [
        "import numpy as np\n",
        "import tensorflow as tf\n",
        "from tensorflow.keras import layers, models\n",
        "from sklearn.decomposition import PCA\n",
        "from sklearn.model_selection import train_test_split\n",
        "from sklearn.metrics import accuracy_score\n",
        "\n",
        "import numpy as np\n",
        "import pandas as pd\n",
        "\n",
        "# read feature dataset\n",
        "train_feat = np.load(\"/content/train_feature.npz\", allow_pickle=True)\n",
        "train_feat_X = train_feat['features']\n",
        "train_feat_Y = train_feat['label']\n",
        "\n",
        "# test_feat_X = np.load(\"/content/test_feature.npz\", allow_pickle=True)['features']\n",
        "\n",
        "# Set the number of components to reduce the features to (e.g., 100)\n",
        "n_components = 50\n",
        "\n",
        "# Apply PCA to reduce the number of features from 768 to 100\n",
        "pca = PCA(n_components=n_components)\n",
        "\n",
        "# Reshape X to 2D (flatten the 13x768 feature matrix for PCA)\n",
        "n_samples, n_time_steps, n_features = train_feat_X.shape  # train_feat_X has shape (n_samples, 13, 768)\n",
        "X_flattened = train_feat_X.reshape(n_samples * n_time_steps, n_features)\n",
        "\n",
        "# Apply PCA on the flattened data\n",
        "X_reduced_flat = pca.fit_transform(X_flattened)\n",
        "\n",
        "# Reshape back to 3D (with reduced features)\n",
        "X_reduced = X_reduced_flat.reshape(n_samples, n_time_steps, n_components)\n",
        "\n",
        "# Split into training and validation sets\n",
        "X_train, X_val, y_train, y_val = train_test_split(X_reduced, train_feat_Y, test_size=0.3, random_state=42)\n",
        "\n",
        "# Define the CNN model\n",
        "model = models.Sequential()\n",
        "\n",
        "# Adjust the input shape to reflect the reduced number of components\n",
        "model.add(layers.Conv1D(32, kernel_size=3, activation='relu', input_shape=(13, n_components), padding='same'))\n",
        "\n",
        "# Add second Convolutional layer with padding='same' to prevent dimension reduction\n",
        "model.add(layers.Conv1D(32, kernel_size=3, activation='relu', padding='same'))\n",
        "\n",
        "# Add a Global Max Pooling layer to aggregate features over time steps without aggressive downsampling\n",
        "model.add(layers.GlobalMaxPooling1D())\n",
        "\n",
        "# Flatten the results for the Dense layers\n",
        "model.add(layers.Flatten())\n",
        "\n",
        "# Dense layers\n",
        "model.add(layers.Dense(32, activation='relu'))\n",
        "model.add(layers.Dense(1, activation='sigmoid'))  # Binary classification output\n",
        "\n",
        "# Compile the model\n",
        "model.compile(optimizer='adam',\n",
        "              loss='binary_crossentropy',\n",
        "              metrics=['accuracy'])\n",
        "\n",
        "# Train the model\n",
        "history = model.fit(X_train, y_train, epochs=10, batch_size=32, validation_data=(X_val, y_val))\n",
        "\n",
        "valid_feat = np.load(\"/content/valid_feature.npz\", allow_pickle=True)\n",
        "valid_feat_X = valid_feat['features']\n",
        "valid_feat_Y = valid_feat['label']\n",
        "\n",
        "\n",
        "import numpy as np\n",
        "import tensorflow as tf\n",
        "from tensorflow.keras.models import load_model\n",
        "from sklearn.metrics import accuracy_score\n",
        "\n",
        "# Load the saved model (update with your saved model's path)\n",
        "# model = load_model('feat_model_1.h5')\n",
        "\n",
        "# Set the number of components used for PCA (should match what was used during training)\n",
        "n_components = 50\n",
        "\n",
        "# Apply PCA to reduce the validation set features from 768 to 50\n",
        "pca = PCA(n_components=n_components)\n",
        "\n",
        "# Flatten the validation data from 3D (n_samples, 13, 768) to 2D (n_samples * 13, 768)\n",
        "n_samples, n_time_steps, n_features = valid_feat_X.shape  # Shape: (None, 13, 768)\n",
        "valid_feat_X_flat = valid_feat_X.reshape(n_samples * n_time_steps, n_features)\n",
        "\n",
        "# Apply PCA transformation (you need to have trained PCA on the training data earlier and re-use it here)\n",
        "valid_feat_X_reduced_flat = pca.fit_transform(valid_feat_X_flat)  # Use the same PCA that was fit on training data\n",
        "\n",
        "# Reshape back to 3D (n_samples, 13, n_components)\n",
        "valid_feat_X_reduced = valid_feat_X_reduced_flat.reshape(n_samples, n_time_steps, n_components)\n",
        "\n",
        "# Get predictions for the validation set\n",
        "y_pred_val = (model.predict(valid_feat_X_reduced) > 0.5).astype(\"int32\")\n",
        "\n",
        "# If you have the true labels, calculate accuracy\n",
        "if 'label' in valid_feat.files:\n",
        "    valid_feat_Y = valid_feat['label']\n",
        "    print(f\"Validation Accuracy: {accuracy_score(valid_feat_Y, y_pred_val):.4f}\")"
      ],
      "metadata": {
        "colab": {
          "base_uri": "https://localhost:8080/"
        },
        "id": "NFNz9ulqJsGv",
        "outputId": "46b9a2a0-3c0c-43a8-bb6e-fc1a09bd3684"
      },
      "execution_count": 11,
      "outputs": [
        {
          "output_type": "stream",
          "name": "stdout",
          "text": [
            "Epoch 1/10\n",
            "\u001b[1m155/155\u001b[0m \u001b[32m━━━━━━━━━━━━━━━━━━━━\u001b[0m\u001b[37m\u001b[0m \u001b[1m6s\u001b[0m 10ms/step - accuracy: 0.7377 - loss: 0.5965 - val_accuracy: 0.9506 - val_loss: 0.1534\n",
            "Epoch 2/10\n",
            "\u001b[1m155/155\u001b[0m \u001b[32m━━━━━━━━━━━━━━━━━━━━\u001b[0m\u001b[37m\u001b[0m \u001b[1m1s\u001b[0m 4ms/step - accuracy: 0.9664 - loss: 0.1285 - val_accuracy: 0.9623 - val_loss: 0.0871\n",
            "Epoch 3/10\n",
            "\u001b[1m155/155\u001b[0m \u001b[32m━━━━━━━━━━━━━━━━━━━━\u001b[0m\u001b[37m\u001b[0m \u001b[1m1s\u001b[0m 4ms/step - accuracy: 0.9708 - loss: 0.0797 - val_accuracy: 0.9614 - val_loss: 0.0764\n",
            "Epoch 4/10\n",
            "\u001b[1m155/155\u001b[0m \u001b[32m━━━━━━━━━━━━━━━━━━━━\u001b[0m\u001b[37m\u001b[0m \u001b[1m1s\u001b[0m 4ms/step - accuracy: 0.9730 - loss: 0.0651 - val_accuracy: 0.9623 - val_loss: 0.0704\n",
            "Epoch 5/10\n",
            "\u001b[1m155/155\u001b[0m \u001b[32m━━━━━━━━━━━━━━━━━━━━\u001b[0m\u001b[37m\u001b[0m \u001b[1m1s\u001b[0m 4ms/step - accuracy: 0.9769 - loss: 0.0575 - val_accuracy: 0.9637 - val_loss: 0.0689\n",
            "Epoch 6/10\n",
            "\u001b[1m155/155\u001b[0m \u001b[32m━━━━━━━━━━━━━━━━━━━━\u001b[0m\u001b[37m\u001b[0m \u001b[1m1s\u001b[0m 4ms/step - accuracy: 0.9763 - loss: 0.0553 - val_accuracy: 0.9713 - val_loss: 0.0609\n",
            "Epoch 7/10\n",
            "\u001b[1m155/155\u001b[0m \u001b[32m━━━━━━━━━━━━━━━━━━━━\u001b[0m\u001b[37m\u001b[0m \u001b[1m1s\u001b[0m 4ms/step - accuracy: 0.9793 - loss: 0.0504 - val_accuracy: 0.9746 - val_loss: 0.0545\n",
            "Epoch 8/10\n",
            "\u001b[1m155/155\u001b[0m \u001b[32m━━━━━━━━━━━━━━━━━━━━\u001b[0m\u001b[37m\u001b[0m \u001b[1m1s\u001b[0m 4ms/step - accuracy: 0.9810 - loss: 0.0458 - val_accuracy: 0.9779 - val_loss: 0.0509\n",
            "Epoch 9/10\n",
            "\u001b[1m155/155\u001b[0m \u001b[32m━━━━━━━━━━━━━━━━━━━━\u001b[0m\u001b[37m\u001b[0m \u001b[1m1s\u001b[0m 4ms/step - accuracy: 0.9835 - loss: 0.0401 - val_accuracy: 0.9793 - val_loss: 0.0514\n",
            "Epoch 10/10\n",
            "\u001b[1m155/155\u001b[0m \u001b[32m━━━━━━━━━━━━━━━━━━━━\u001b[0m\u001b[37m\u001b[0m \u001b[1m2s\u001b[0m 6ms/step - accuracy: 0.9849 - loss: 0.0368 - val_accuracy: 0.9783 - val_loss: 0.0494\n",
            "\u001b[1m16/16\u001b[0m \u001b[32m━━━━━━━━━━━━━━━━━━━━\u001b[0m\u001b[37m\u001b[0m \u001b[1m0s\u001b[0m 9ms/step\n",
            "Validation Accuracy: 0.9366\n"
          ]
        }
      ]
    },
    {
      "cell_type": "markdown",
      "source": [
        "dataset 3"
      ],
      "metadata": {
        "id": "tfpqAuiiJsg3"
      }
    },
    {
      "cell_type": "code",
      "source": [
        "from tensorflow.keras.models import Sequential\n",
        "from tensorflow.keras.layers import Embedding, Conv1D, MaxPooling1D, Flatten, Dense, Dropout, Input, AveragePooling1D\n",
        "import random\n",
        "import numpy as np\n",
        "import pandas as pd\n",
        "import tensorflow as tf\n",
        "from sklearn.model_selection import train_test_split\n",
        "import matplotlib.pyplot as plt\n",
        "import seaborn as sns\n",
        "from sklearn.metrics import confusion_matrix, classification_report\n",
        "from tensorflow.keras.callbacks import EarlyStopping\n",
        "# Hyperparameters\n",
        "\n",
        "from tensorflow.keras.models import Sequential\n",
        "from tensorflow.keras.layers import Embedding, Conv1D, MaxPooling1D, Flatten, Dense, Dropout\n",
        "from tensorflow.keras.preprocessing.text import Tokenizer\n",
        "from tensorflow.keras.preprocessing.sequence import pad_sequences\n",
        "from sklearn.ensemble import RandomForestClassifier\n",
        "from sklearn.linear_model import LogisticRegression\n",
        "from sklearn.svm import SVC\n",
        "from sklearn.metrics import accuracy_score\n",
        "from sklearn.model_selection import train_test_split\n",
        "from xgboost import XGBClassifier\n",
        "import pandas as pd\n",
        "import random\n",
        "\n",
        "train_input = \"/content/train_text_seq.csv\"\n",
        "test_input = \"/content/valid_text_seq.csv\"\n",
        "\n",
        "def set_seed(seed_value=42):\n",
        "    np.random.seed(seed_value)\n",
        "    random.seed(seed_value)\n",
        "    tf.random.set_seed(seed_value)\n",
        "    # tf.keras.utils.set_random_seed(seed_value)\n",
        "\n",
        "set_seed(42)\n",
        "\n",
        "# Function to preprocess data (character-level tokenization)\n",
        "def preprocess_data(strings, max_length):\n",
        "    tokenizer = Tokenizer(char_level=True)  # Tokenizer will work on characters\n",
        "    tokenizer.fit_on_texts(strings)\n",
        "    sequences = tokenizer.texts_to_sequences(strings)\n",
        "    padded_sequences = pad_sequences(sequences, maxlen=max_length, padding='post')\n",
        "    vocab_size = len(tokenizer.word_index) + 1  # size of the character vocabulary\n",
        "    return padded_sequences, vocab_size\n",
        "\n",
        "MAX_LENGTH = 50  # Fixed length of each string\n",
        "TEST_SIZE = 0.2\n",
        "# Load training and test data\n",
        "train_data = pd.read_csv(train_input)  # Assuming CSV with columns ['text', 'label']\n",
        "test_data = pd.read_csv(test_input)\n",
        "\n",
        "# Preprocess training data and split into training and validation sets\n",
        "X_train_full, vocab_size_train = preprocess_data(train_data['input_str'].values, MAX_LENGTH)\n",
        "\n",
        "# Split training data into train and validation sets\n",
        "X_train, X_val, y_train, y_val = train_test_split(X_train_full, train_data['label'].values, test_size=TEST_SIZE, random_state=42)\n",
        "\n",
        "# Preprocess test data\n",
        "X_test, vocab_size_test = preprocess_data(test_data['input_str'].values, MAX_LENGTH)\n",
        "\n",
        "# Use the vocabulary size from the training set\n",
        "vocab_size = vocab_size_train\n",
        "\n",
        "# Get the binary labels for test data\n",
        "y_test = test_data['label'].values\n",
        "\n",
        "\n",
        "\n",
        "MAX_LENGTH = 50  # Fixed length of each string\n",
        "TEST_SIZE = 0.2  # Proportion of data for validation split\n",
        "\n",
        "\n",
        "embedding_dim = 50\n",
        "num_filters_1 = 32\n",
        "num_filters_2 = 16\n",
        "num_filters_3 = 8\n",
        "num_filters_4 = 8\n",
        "kernel_size = 3\n",
        "sequence_length = 50\n",
        "cnn_model = Sequential([\n",
        "    Embedding(input_dim=vocab_size, output_dim=embedding_dim, input_length=sequence_length),\n",
        "    Conv1D(filters=num_filters_1, kernel_size=kernel_size, activation='relu'),\n",
        "    Conv1D(filters=num_filters_2, kernel_size=kernel_size, activation='relu'),\n",
        "    Conv1D(filters=num_filters_3, kernel_size=kernel_size, activation='relu'),\n",
        "    Conv1D(filters=num_filters_4, kernel_size=kernel_size, activation='relu'),\n",
        "    Dropout(0.5),\n",
        "    Flatten(),\n",
        "    Dense(1, activation='sigmoid')  # Binary classification\n",
        "])\n",
        "\n",
        "cnn_model.compile(loss='binary_crossentropy', optimizer='adam', metrics=['accuracy'])\n",
        "\n",
        "# EarlyStopping callback to stop training when the validation accuracy stops improving\n",
        "early_stopping = EarlyStopping(\n",
        "    monitor='val_loss',    # Metric to monitor\n",
        "    patience=3,            # Number of epochs with no improvement after which training will be stopped\n",
        "    restore_best_weights=True  # Restore the weights from the epoch with the best validation loss\n",
        ")\n",
        "\n",
        "# Train the CNN model and store the history\n",
        "history = cnn_model.fit(X_train, y_train, epochs=25, batch_size=16, validation_data=(X_val, y_val))\n",
        "\n",
        "# Plotting Epochs vs Validation Accuracy\n",
        "plt.figure(figsize=(8, 6))\n",
        "\n",
        "# Plot validation accuracy\n",
        "plt.plot(history.history['val_accuracy'], label='Validation Accuracy', marker='o', linestyle='--', color='b')\n",
        "plt.plot(history.history['accuracy'], label='Training Accuracy', marker='o', linestyle='-', color='g')\n",
        "plt.title('Epochs vs Training & Validation Accuracy')\n",
        "plt.xlabel('Epochs')\n",
        "plt.ylabel('Accuracy')\n",
        "plt.xticks(np.arange(0, 25, step=1))  # Set x-ticks for each epoch\n",
        "plt.grid(True)\n",
        "plt.legend(loc='lower right')  # Legend for the plot\n",
        "plt.show()\n",
        "\n",
        "# Evaluate classical CNN accuracy on the test data\n",
        "y_pred_prob = cnn_model.predict(X_test)\n",
        "y_pred = (y_pred_prob > 0.5).astype(\"int32\")  # Convert probabilities to binary predictions\n",
        "\n",
        "# Print test accuracy\n",
        "_, cnn_test_acc = cnn_model.evaluate(X_test, y_test, verbose=0)\n",
        "print(f\"Classical CNN Test Accuracy: {cnn_test_acc:.4f}\")\n",
        "\n",
        "# Print confusion matrix\n",
        "conf_matrix = confusion_matrix(y_test, y_pred)\n",
        "\n",
        "plt.figure(figsize=(6, 5))\n",
        "sns.heatmap(conf_matrix, annot=True, fmt='d', cmap='Blues', cbar=False)\n",
        "plt.title('Confusion Matrix')\n",
        "plt.ylabel('Actual Label')\n",
        "plt.xlabel('Predicted Label')\n",
        "plt.show()\n",
        "\n",
        "# Print classification report\n",
        "class_report = classification_report(y_test, y_pred)\n",
        "print(\"Classification Report:\\n\", class_report)\n",
        "\n",
        "# Model Summary\n",
        "print(cnn_model.summary())"
      ],
      "metadata": {
        "colab": {
          "base_uri": "https://localhost:8080/",
          "height": 1000
        },
        "id": "I004zzhCJtvz",
        "outputId": "5270ec3d-2126-483e-cab6-c5c67815bfc4"
      },
      "execution_count": 4,
      "outputs": [
        {
          "output_type": "stream",
          "name": "stdout",
          "text": [
            "Epoch 1/25\n"
          ]
        },
        {
          "output_type": "stream",
          "name": "stderr",
          "text": [
            "/usr/local/lib/python3.10/dist-packages/keras/src/layers/core/embedding.py:90: UserWarning: Argument `input_length` is deprecated. Just remove it.\n",
            "  warnings.warn(\n"
          ]
        },
        {
          "output_type": "stream",
          "name": "stdout",
          "text": [
            "\u001b[1m354/354\u001b[0m \u001b[32m━━━━━━━━━━━━━━━━━━━━\u001b[0m\u001b[37m\u001b[0m \u001b[1m4s\u001b[0m 6ms/step - accuracy: 0.5018 - loss: 0.6933 - val_accuracy: 0.5353 - val_loss: 0.6926\n",
            "Epoch 2/25\n",
            "\u001b[1m354/354\u001b[0m \u001b[32m━━━━━━━━━━━━━━━━━━━━\u001b[0m\u001b[37m\u001b[0m \u001b[1m2s\u001b[0m 5ms/step - accuracy: 0.5365 - loss: 0.6914 - val_accuracy: 0.5410 - val_loss: 0.6907\n",
            "Epoch 3/25\n",
            "\u001b[1m354/354\u001b[0m \u001b[32m━━━━━━━━━━━━━━━━━━━━\u001b[0m\u001b[37m\u001b[0m \u001b[1m2s\u001b[0m 6ms/step - accuracy: 0.5683 - loss: 0.6839 - val_accuracy: 0.6081 - val_loss: 0.6685\n",
            "Epoch 4/25\n",
            "\u001b[1m354/354\u001b[0m \u001b[32m━━━━━━━━━━━━━━━━━━━━\u001b[0m\u001b[37m\u001b[0m \u001b[1m3s\u001b[0m 10ms/step - accuracy: 0.6019 - loss: 0.6572 - val_accuracy: 0.6653 - val_loss: 0.6235\n",
            "Epoch 5/25\n",
            "\u001b[1m354/354\u001b[0m \u001b[32m━━━━━━━━━━━━━━━━━━━━\u001b[0m\u001b[37m\u001b[0m \u001b[1m2s\u001b[0m 7ms/step - accuracy: 0.6513 - loss: 0.6179 - val_accuracy: 0.7274 - val_loss: 0.5660\n",
            "Epoch 6/25\n",
            "\u001b[1m354/354\u001b[0m \u001b[32m━━━━━━━━━━━━━━━━━━━━\u001b[0m\u001b[37m\u001b[0m \u001b[1m2s\u001b[0m 6ms/step - accuracy: 0.7137 - loss: 0.5610 - val_accuracy: 0.7669 - val_loss: 0.4921\n",
            "Epoch 7/25\n",
            "\u001b[1m354/354\u001b[0m \u001b[32m━━━━━━━━━━━━━━━━━━━━\u001b[0m\u001b[37m\u001b[0m \u001b[1m4s\u001b[0m 11ms/step - accuracy: 0.7602 - loss: 0.5018 - val_accuracy: 0.7952 - val_loss: 0.4594\n",
            "Epoch 8/25\n",
            "\u001b[1m354/354\u001b[0m \u001b[32m━━━━━━━━━━━━━━━━━━━━\u001b[0m\u001b[37m\u001b[0m \u001b[1m6s\u001b[0m 12ms/step - accuracy: 0.7794 - loss: 0.4620 - val_accuracy: 0.8206 - val_loss: 0.3960\n",
            "Epoch 9/25\n",
            "\u001b[1m354/354\u001b[0m \u001b[32m━━━━━━━━━━━━━━━━━━━━\u001b[0m\u001b[37m\u001b[0m \u001b[1m4s\u001b[0m 9ms/step - accuracy: 0.8161 - loss: 0.4080 - val_accuracy: 0.8333 - val_loss: 0.3645\n",
            "Epoch 10/25\n",
            "\u001b[1m354/354\u001b[0m \u001b[32m━━━━━━━━━━━━━━━━━━━━\u001b[0m\u001b[37m\u001b[0m \u001b[1m3s\u001b[0m 8ms/step - accuracy: 0.8204 - loss: 0.3793 - val_accuracy: 0.8545 - val_loss: 0.3510\n",
            "Epoch 11/25\n",
            "\u001b[1m354/354\u001b[0m \u001b[32m━━━━━━━━━━━━━━━━━━━━\u001b[0m\u001b[37m\u001b[0m \u001b[1m2s\u001b[0m 5ms/step - accuracy: 0.8422 - loss: 0.3649 - val_accuracy: 0.8573 - val_loss: 0.3302\n",
            "Epoch 12/25\n",
            "\u001b[1m354/354\u001b[0m \u001b[32m━━━━━━━━━━━━━━━━━━━━\u001b[0m\u001b[37m\u001b[0m \u001b[1m5s\u001b[0m 11ms/step - accuracy: 0.8518 - loss: 0.3406 - val_accuracy: 0.8616 - val_loss: 0.3146\n",
            "Epoch 13/25\n",
            "\u001b[1m354/354\u001b[0m \u001b[32m━━━━━━━━━━━━━━━━━━━━\u001b[0m\u001b[37m\u001b[0m \u001b[1m4s\u001b[0m 8ms/step - accuracy: 0.8596 - loss: 0.3287 - val_accuracy: 0.8602 - val_loss: 0.3067\n",
            "Epoch 14/25\n",
            "\u001b[1m354/354\u001b[0m \u001b[32m━━━━━━━━━━━━━━━━━━━━\u001b[0m\u001b[37m\u001b[0m \u001b[1m2s\u001b[0m 5ms/step - accuracy: 0.8631 - loss: 0.3214 - val_accuracy: 0.8722 - val_loss: 0.2944\n",
            "Epoch 15/25\n",
            "\u001b[1m354/354\u001b[0m \u001b[32m━━━━━━━━━━━━━━━━━━━━\u001b[0m\u001b[37m\u001b[0m \u001b[1m4s\u001b[0m 10ms/step - accuracy: 0.8679 - loss: 0.3081 - val_accuracy: 0.8799 - val_loss: 0.2869\n",
            "Epoch 16/25\n",
            "\u001b[1m354/354\u001b[0m \u001b[32m━━━━━━━━━━━━━━━━━━━━\u001b[0m\u001b[37m\u001b[0m \u001b[1m7s\u001b[0m 14ms/step - accuracy: 0.8738 - loss: 0.2913 - val_accuracy: 0.8771 - val_loss: 0.2848\n",
            "Epoch 17/25\n",
            "\u001b[1m354/354\u001b[0m \u001b[32m━━━━━━━━━━━━━━━━━━━━\u001b[0m\u001b[37m\u001b[0m \u001b[1m3s\u001b[0m 7ms/step - accuracy: 0.8778 - loss: 0.2871 - val_accuracy: 0.8814 - val_loss: 0.2729\n",
            "Epoch 18/25\n",
            "\u001b[1m354/354\u001b[0m \u001b[32m━━━━━━━━━━━━━━━━━━━━\u001b[0m\u001b[37m\u001b[0m \u001b[1m4s\u001b[0m 5ms/step - accuracy: 0.8829 - loss: 0.2763 - val_accuracy: 0.8870 - val_loss: 0.2638\n",
            "Epoch 19/25\n",
            "\u001b[1m354/354\u001b[0m \u001b[32m━━━━━━━━━━━━━━━━━━━━\u001b[0m\u001b[37m\u001b[0m \u001b[1m2s\u001b[0m 5ms/step - accuracy: 0.8848 - loss: 0.2751 - val_accuracy: 0.8849 - val_loss: 0.2626\n",
            "Epoch 20/25\n",
            "\u001b[1m354/354\u001b[0m \u001b[32m━━━━━━━━━━━━━━━━━━━━\u001b[0m\u001b[37m\u001b[0m \u001b[1m4s\u001b[0m 8ms/step - accuracy: 0.8910 - loss: 0.2689 - val_accuracy: 0.8814 - val_loss: 0.2670\n",
            "Epoch 21/25\n",
            "\u001b[1m354/354\u001b[0m \u001b[32m━━━━━━━━━━━━━━━━━━━━\u001b[0m\u001b[37m\u001b[0m \u001b[1m4s\u001b[0m 5ms/step - accuracy: 0.8929 - loss: 0.2532 - val_accuracy: 0.8856 - val_loss: 0.2491\n",
            "Epoch 22/25\n",
            "\u001b[1m354/354\u001b[0m \u001b[32m━━━━━━━━━━━━━━━━━━━━\u001b[0m\u001b[37m\u001b[0m \u001b[1m3s\u001b[0m 5ms/step - accuracy: 0.8999 - loss: 0.2529 - val_accuracy: 0.8962 - val_loss: 0.2446\n",
            "Epoch 23/25\n",
            "\u001b[1m354/354\u001b[0m \u001b[32m━━━━━━━━━━━━━━━━━━━━\u001b[0m\u001b[37m\u001b[0m \u001b[1m3s\u001b[0m 5ms/step - accuracy: 0.9070 - loss: 0.2381 - val_accuracy: 0.8962 - val_loss: 0.2420\n",
            "Epoch 24/25\n",
            "\u001b[1m354/354\u001b[0m \u001b[32m━━━━━━━━━━━━━━━━━━━━\u001b[0m\u001b[37m\u001b[0m \u001b[1m2s\u001b[0m 6ms/step - accuracy: 0.8947 - loss: 0.2438 - val_accuracy: 0.8969 - val_loss: 0.2400\n",
            "Epoch 25/25\n",
            "\u001b[1m354/354\u001b[0m \u001b[32m━━━━━━━━━━━━━━━━━━━━\u001b[0m\u001b[37m\u001b[0m \u001b[1m3s\u001b[0m 8ms/step - accuracy: 0.9018 - loss: 0.2452 - val_accuracy: 0.8955 - val_loss: 0.2365\n"
          ]
        },
        {
          "output_type": "display_data",
          "data": {
            "text/plain": [
              "<Figure size 800x600 with 1 Axes>"
            ],
            "image/png": "[encoded data removed]"
          },
          "metadata": {}
        },
        {
          "output_type": "stream",
          "name": "stdout",
          "text": [
            "\u001b[1m16/16\u001b[0m \u001b[32m━━━━━━━━━━━━━━━━━━━━\u001b[0m\u001b[37m\u001b[0m \u001b[1m0s\u001b[0m 9ms/step\n",
            "Classical CNN Test Accuracy: 0.9366\n"
          ]
        },
        {
          "output_type": "display_data",
          "data": {
            "text/plain": [
              "<Figure size 600x500 with 1 Axes>"
            ],
            "image/png": "[encoded data removed]"
          },
          "metadata": {}
        },
        {
          "output_type": "stream",
          "name": "stdout",
          "text": [
            "Classification Report:\n",
            "               precision    recall  f1-score   support\n",
            "\n",
            "           0       0.94      0.94      0.94       252\n",
            "           1       0.94      0.93      0.93       237\n",
            "\n",
            "    accuracy                           0.94       489\n",
            "   macro avg       0.94      0.94      0.94       489\n",
            "weighted avg       0.94      0.94      0.94       489\n",
            "\n"
          ]
        },
        {
          "output_type": "display_data",
          "data": {
            "text/plain": [
              "\u001b[1mModel: \"sequential_1\"\u001b[0m\n"
            ],
            "text/html": [
              "<pre style=\"white-space:pre;overflow-x:auto;line-height:normal;font-family:Menlo,'DejaVu Sans Mono',consolas,'Courier New',monospace\"><span style=\"font-weight: bold\">Model: \"sequential_1\"</span>\n",
              "</pre>\n"
            ]
          },
          "metadata": {}
        },
        {
          "output_type": "display_data",
          "data": {
            "text/plain": [
              "┏━━━━━━━━━━━━━━━━━━━━━━━━━━━━━━━━━━━━━━┳━━━━━━━━━━━━━━━━━━━━━━━━━━━━━┳━━━━━━━━━━━━━━━━━┓\n",
              "┃\u001b[1m \u001b[0m\u001b[1mLayer (type)                        \u001b[0m\u001b[1m \u001b[0m┃\u001b[1m \u001b[0m\u001b[1mOutput Shape               \u001b[0m\u001b[1m \u001b[0m┃\u001b[1m \u001b[0m\u001b[1m        Param #\u001b[0m\u001b[1m \u001b[0m┃\n",
              "┡━━━━━━━━━━━━━━━━━━━━━━━━━━━━━━━━━━━━━━╇━━━━━━━━━━━━━━━━━━━━━━━━━━━━━╇━━━━━━━━━━━━━━━━━┩\n",
              "│ embedding_3 (\u001b[38;5;33mEmbedding\u001b[0m)              │ (\u001b[38;5;34m16\u001b[0m, \u001b[38;5;34m50\u001b[0m, \u001b[38;5;34m50\u001b[0m)                │             \u001b[38;5;34m550\u001b[0m │\n",
              "├──────────────────────────────────────┼─────────────────────────────┼─────────────────┤\n",
              "│ conv1d_6 (\u001b[38;5;33mConv1D\u001b[0m)                    │ (\u001b[38;5;34m16\u001b[0m, \u001b[38;5;34m48\u001b[0m, \u001b[38;5;34m32\u001b[0m)                │           \u001b[38;5;34m4,832\u001b[0m │\n",
              "├──────────────────────────────────────┼─────────────────────────────┼─────────────────┤\n",
              "│ conv1d_7 (\u001b[38;5;33mConv1D\u001b[0m)                    │ (\u001b[38;5;34m16\u001b[0m, \u001b[38;5;34m46\u001b[0m, \u001b[38;5;34m16\u001b[0m)                │           \u001b[38;5;34m1,552\u001b[0m │\n",
              "├──────────────────────────────────────┼─────────────────────────────┼─────────────────┤\n",
              "│ conv1d_8 (\u001b[38;5;33mConv1D\u001b[0m)                    │ (\u001b[38;5;34m16\u001b[0m, \u001b[38;5;34m44\u001b[0m, \u001b[38;5;34m8\u001b[0m)                 │             \u001b[38;5;34m392\u001b[0m │\n",
              "├──────────────────────────────────────┼─────────────────────────────┼─────────────────┤\n",
              "│ conv1d_9 (\u001b[38;5;33mConv1D\u001b[0m)                    │ (\u001b[38;5;34m16\u001b[0m, \u001b[38;5;34m42\u001b[0m, \u001b[38;5;34m8\u001b[0m)                 │             \u001b[38;5;34m200\u001b[0m │\n",
              "├──────────────────────────────────────┼─────────────────────────────┼─────────────────┤\n",
              "│ dropout (\u001b[38;5;33mDropout\u001b[0m)                    │ (\u001b[38;5;34m16\u001b[0m, \u001b[38;5;34m42\u001b[0m, \u001b[38;5;34m8\u001b[0m)                 │               \u001b[38;5;34m0\u001b[0m │\n",
              "├──────────────────────────────────────┼─────────────────────────────┼─────────────────┤\n",
              "│ flatten_1 (\u001b[38;5;33mFlatten\u001b[0m)                  │ (\u001b[38;5;34m16\u001b[0m, \u001b[38;5;34m336\u001b[0m)                   │               \u001b[38;5;34m0\u001b[0m │\n",
              "├──────────────────────────────────────┼─────────────────────────────┼─────────────────┤\n",
              "│ dense_1 (\u001b[38;5;33mDense\u001b[0m)                      │ (\u001b[38;5;34m16\u001b[0m, \u001b[38;5;34m1\u001b[0m)                     │             \u001b[38;5;34m337\u001b[0m │\n",
              "└──────────────────────────────────────┴─────────────────────────────┴─────────────────┘\n"
            ],
            "text/html": [
              "<pre style=\"white-space:pre;overflow-x:auto;line-height:normal;font-family:Menlo,'DejaVu Sans Mono',consolas,'Courier New',monospace\">┏━━━━━━━━━━━━━━━━━━━━━━━━━━━━━━━━━━━━━━┳━━━━━━━━━━━━━━━━━━━━━━━━━━━━━┳━━━━━━━━━━━━━━━━━┓\n",
              "┃<span style=\"font-weight: bold\"> Layer (type)                         </span>┃<span style=\"font-weight: bold\"> Output Shape                </span>┃<span style=\"font-weight: bold\">         Param # </span>┃\n",
              "┡━━━━━━━━━━━━━━━━━━━━━━━━━━━━━━━━━━━━━━╇━━━━━━━━━━━━━━━━━━━━━━━━━━━━━╇━━━━━━━━━━━━━━━━━┩\n",
              "│ embedding_3 (<span style=\"color: #0087ff; text-decoration-color: #0087ff\">Embedding</span>)              │ (<span style=\"color: #00af00; text-decoration-color: #00af00\">16</span>, <span style=\"color: #00af00; text-decoration-color: #00af00\">50</span>, <span style=\"color: #00af00; text-decoration-color: #00af00\">50</span>)                │             <span style=\"color: #00af00; text-decoration-color: #00af00\">550</span> │\n",
              "├──────────────────────────────────────┼─────────────────────────────┼─────────────────┤\n",
              "│ conv1d_6 (<span style=\"color: #0087ff; text-decoration-color: #0087ff\">Conv1D</span>)                    │ (<span style=\"color: #00af00; text-decoration-color: #00af00\">16</span>, <span style=\"color: #00af00; text-decoration-color: #00af00\">48</span>, <span style=\"color: #00af00; text-decoration-color: #00af00\">32</span>)                │           <span style=\"color: #00af00; text-decoration-color: #00af00\">4,832</span> │\n",
              "├──────────────────────────────────────┼─────────────────────────────┼─────────────────┤\n",
              "│ conv1d_7 (<span style=\"color: #0087ff; text-decoration-color: #0087ff\">Conv1D</span>)                    │ (<span style=\"color: #00af00; text-decoration-color: #00af00\">16</span>, <span style=\"color: #00af00; text-decoration-color: #00af00\">46</span>, <span style=\"color: #00af00; text-decoration-color: #00af00\">16</span>)                │           <span style=\"color: #00af00; text-decoration-color: #00af00\">1,552</span> │\n",
              "├──────────────────────────────────────┼─────────────────────────────┼─────────────────┤\n",
              "│ conv1d_8 (<span style=\"color: #0087ff; text-decoration-color: #0087ff\">Conv1D</span>)                    │ (<span style=\"color: #00af00; text-decoration-color: #00af00\">16</span>, <span style=\"color: #00af00; text-decoration-color: #00af00\">44</span>, <span style=\"color: #00af00; text-decoration-color: #00af00\">8</span>)                 │             <span style=\"color: #00af00; text-decoration-color: #00af00\">392</span> │\n",
              "├──────────────────────────────────────┼─────────────────────────────┼─────────────────┤\n",
              "│ conv1d_9 (<span style=\"color: #0087ff; text-decoration-color: #0087ff\">Conv1D</span>)                    │ (<span style=\"color: #00af00; text-decoration-color: #00af00\">16</span>, <span style=\"color: #00af00; text-decoration-color: #00af00\">42</span>, <span style=\"color: #00af00; text-decoration-color: #00af00\">8</span>)                 │             <span style=\"color: #00af00; text-decoration-color: #00af00\">200</span> │\n",
              "├──────────────────────────────────────┼─────────────────────────────┼─────────────────┤\n",
              "│ dropout (<span style=\"color: #0087ff; text-decoration-color: #0087ff\">Dropout</span>)                    │ (<span style=\"color: #00af00; text-decoration-color: #00af00\">16</span>, <span style=\"color: #00af00; text-decoration-color: #00af00\">42</span>, <span style=\"color: #00af00; text-decoration-color: #00af00\">8</span>)                 │               <span style=\"color: #00af00; text-decoration-color: #00af00\">0</span> │\n",
              "├──────────────────────────────────────┼─────────────────────────────┼─────────────────┤\n",
              "│ flatten_1 (<span style=\"color: #0087ff; text-decoration-color: #0087ff\">Flatten</span>)                  │ (<span style=\"color: #00af00; text-decoration-color: #00af00\">16</span>, <span style=\"color: #00af00; text-decoration-color: #00af00\">336</span>)                   │               <span style=\"color: #00af00; text-decoration-color: #00af00\">0</span> │\n",
              "├──────────────────────────────────────┼─────────────────────────────┼─────────────────┤\n",
              "│ dense_1 (<span style=\"color: #0087ff; text-decoration-color: #0087ff\">Dense</span>)                      │ (<span style=\"color: #00af00; text-decoration-color: #00af00\">16</span>, <span style=\"color: #00af00; text-decoration-color: #00af00\">1</span>)                     │             <span style=\"color: #00af00; text-decoration-color: #00af00\">337</span> │\n",
              "└──────────────────────────────────────┴─────────────────────────────┴─────────────────┘\n",
              "</pre>\n"
            ]
          },
          "metadata": {}
        },
        {
          "output_type": "display_data",
          "data": {
            "text/plain": [
              "\u001b[1m Total params: \u001b[0m\u001b[38;5;34m23,591\u001b[0m (92.16 KB)\n"
            ],
            "text/html": [
              "<pre style=\"white-space:pre;overflow-x:auto;line-height:normal;font-family:Menlo,'DejaVu Sans Mono',consolas,'Courier New',monospace\"><span style=\"font-weight: bold\"> Total params: </span><span style=\"color: #00af00; text-decoration-color: #00af00\">23,591</span> (92.16 KB)\n",
              "</pre>\n"
            ]
          },
          "metadata": {}
        },
        {
          "output_type": "display_data",
          "data": {
            "text/plain": [
              "\u001b[1m Trainable params: \u001b[0m\u001b[38;5;34m7,863\u001b[0m (30.71 KB)\n"
            ],
            "text/html": [
              "<pre style=\"white-space:pre;overflow-x:auto;line-height:normal;font-family:Menlo,'DejaVu Sans Mono',consolas,'Courier New',monospace\"><span style=\"font-weight: bold\"> Trainable params: </span><span style=\"color: #00af00; text-decoration-color: #00af00\">7,863</span> (30.71 KB)\n",
              "</pre>\n"
            ]
          },
          "metadata": {}
        },
        {
          "output_type": "display_data",
          "data": {
            "text/plain": [
              "\u001b[1m Non-trainable params: \u001b[0m\u001b[38;5;34m0\u001b[0m (0.00 B)\n"
            ],
            "text/html": [
              "<pre style=\"white-space:pre;overflow-x:auto;line-height:normal;font-family:Menlo,'DejaVu Sans Mono',consolas,'Courier New',monospace\"><span style=\"font-weight: bold\"> Non-trainable params: </span><span style=\"color: #00af00; text-decoration-color: #00af00\">0</span> (0.00 B)\n",
              "</pre>\n"
            ]
          },
          "metadata": {}
        },
        {
          "output_type": "display_data",
          "data": {
            "text/plain": [
              "\u001b[1m Optimizer params: \u001b[0m\u001b[38;5;34m15,728\u001b[0m (61.44 KB)\n"
            ],
            "text/html": [
              "<pre style=\"white-space:pre;overflow-x:auto;line-height:normal;font-family:Menlo,'DejaVu Sans Mono',consolas,'Courier New',monospace\"><span style=\"font-weight: bold\"> Optimizer params: </span><span style=\"color: #00af00; text-decoration-color: #00af00\">15,728</span> (61.44 KB)\n",
              "</pre>\n"
            ]
          },
          "metadata": {}
        },
        {
          "output_type": "stream",
          "name": "stdout",
          "text": [
            "None\n"
          ]
        }
      ]
    },
    {
      "cell_type": "markdown",
      "source": [
        "Task 2"
      ],
      "metadata": {
        "id": "bXOouiX3MoiN"
      }
    },
    {
      "cell_type": "code",
      "source": [
        "from sklearn.decomposition import PCA\n",
        "from sklearn.preprocessing import StandardScaler\n",
        "from sklearn.model_selection import train_test_split, GridSearchCV\n",
        "from sklearn.linear_model import LogisticRegression\n",
        "from sklearn.metrics import accuracy_score, classification_report\n",
        "import warnings\n",
        "warnings.filterwarnings(\"ignore\")  # Ignore warnings from solvers that don't support certain penalties\n",
        "\n",
        "import pandas as pd\n",
        "import numpy as np\n",
        "from sklearn.preprocessing import LabelEncoder, StandardScaler\n",
        "from sklearn.feature_extraction.text import CountVectorizer\n",
        "from sklearn.decomposition import PCA\n",
        "from sklearn.model_selection import train_test_split\n",
        "from sklearn.linear_model import LogisticRegression\n",
        "from sklearn.metrics import accuracy_score, classification_report\n",
        "from sklearn.model_selection import GridSearchCV\n",
        "\n",
        "class DataPreprocessor:\n",
        "    def __init__(self, emoticons_path, deep_features_path, text_sequence_path):\n",
        "        self.emoticons_path = emoticons_path\n",
        "        self.deep_features_path = deep_features_path\n",
        "        self.text_sequence_path = text_sequence_path\n",
        "        self.label_encoder = LabelEncoder()\n",
        "        self.vectorizer = CountVectorizer(analyzer='char', ngram_range=(2, 2), max_features=1000)\n",
        "\n",
        "    def load_emoticons_data(self):\n",
        "        emoticons_df = pd.read_csv(self.emoticons_path)\n",
        "        encoded_emoticons = emoticons_df['input_emoticon'].apply(lambda x: list(self.label_encoder.fit_transform(list(x))))\n",
        "        X_emoticons = pd.DataFrame(encoded_emoticons.tolist())\n",
        "        y_emoticons = emoticons_df['label']\n",
        "        return X_emoticons, y_emoticons\n",
        "\n",
        "    def load_deep_features_data(self):\n",
        "        deep_features = np.load(self.deep_features_path)\n",
        "        X_deep = deep_features['features']\n",
        "        X_deep_flattened = X_deep.reshape(X_deep.shape[0], -1)  # Flatten the 13x786 to 1x10218\n",
        "        y_deep = deep_features['label']\n",
        "        return X_deep_flattened, y_deep\n",
        "\n",
        "    def load_text_sequence_data(self):\n",
        "        text_sequence_df = pd.read_csv(self.text_sequence_path)\n",
        "        X_text = self.vectorizer.fit_transform(text_sequence_df['input_str']).toarray()\n",
        "        y_text = text_sequence_df['label']\n",
        "        return X_text, y_text\n",
        "\n",
        "    def combine_features(self, X_emoticons, X_deep_flattened, X_text):\n",
        "        return np.concatenate([X_emoticons, X_deep_flattened, X_text], axis=1)\n",
        "\n",
        "    def process(self):\n",
        "        X_emoticons, y_emoticons = self.load_emoticons_data()\n",
        "        X_deep_flattened, y_deep = self.load_deep_features_data()\n",
        "        X_text, y_text = self.load_text_sequence_data()\n",
        "\n",
        "        # Combine all features\n",
        "        X_combined = self.combine_features(X_emoticons, X_deep_flattened, X_text)\n",
        "        y_combined = y_emoticons  # Use emoticon labels or any consistent label\n",
        "        return X_combined, y_combined\n",
        "\n",
        "# Initialize the preprocessor\n",
        "preprocessor = DataPreprocessor(\n",
        "    emoticons_path='/content/train_emoticon.csv',\n",
        "    deep_features_path='/content/train_feature.npz',\n",
        "    text_sequence_path='/content/train_text_seq.csv'\n",
        ")\n",
        "\n",
        "# Process datasets\n",
        "X_combined_train, y_combined_train = preprocessor.process()\n",
        "\n",
        "preprocessor_2 = DataPreprocessor(\n",
        "    emoticons_path='/content/valid_emoticon.csv',\n",
        "    deep_features_path='/content/valid_feature.npz',\n",
        "    text_sequence_path='/content/valid_text_seq.csv'\n",
        ")\n",
        "\n",
        "# Process datasets\n",
        "X_combined_test, y_combined_test = preprocessor_2.process()\n",
        "# Split into train and test sets\n",
        "\n",
        "# List of PCA components to iterate over\n",
        "n_components = 1000\n",
        "\n",
        "# Scaler\n",
        "scaler = StandardScaler()\n",
        "X_train_subset, y_train_subset = X_combined_train, y_combined_train\n",
        "\n",
        "# Scale the data\n",
        "X_train_subset = scaler.fit_transform(X_train_subset)\n",
        "X_test_scaled = scaler.transform(X_combined_test)\n",
        "\n",
        "# Apply PCA on the training subset\n",
        "pca = PCA(n_components=n_components)\n",
        "X_train_subset_pca = pca.fit_transform(X_train_subset)\n",
        "print(f\"Training shape after PCA: {X_train_subset_pca.shape}\")\n",
        "\n",
        "X_test_pca = pca.transform(X_test_scaled)\n",
        "print(f\"Test shape after PCA: {X_test_pca.shape}\")\n",
        "\n",
        "# Set up the Logistic Regression model with GridSearchCV\n",
        "logistic_model = LogisticRegression(max_iter=1000, C = 1, penalty='l1', solver = 'liblinear')\n",
        "\n",
        "# Fit the model to the training data\n",
        "logistic_model.fit(X_train_subset_pca, y_train_subset) # This line is added\n",
        "\n",
        "# Make predictions on the test set\n",
        "y_pred = logistic_model.predict(X_test_pca)\n",
        "\n",
        "# Evaluate the model\n",
        "accuracy = accuracy_score(y_combined_test, y_pred)\n",
        "report = classification_report(y_combined_test, y_pred)\n",
        "print(f\"Test Set Accuracy: {accuracy * 100:.2f}%\")\n",
        "print(f\"Classification Report:\\n{report}\")\n"
      ],
      "metadata": {
        "colab": {
          "base_uri": "https://localhost:8080/"
        },
        "id": "xuyYd3c9Mpc0",
        "outputId": "99707950-c5f9-471a-9f18-471068f16039"
      },
      "execution_count": 6,
      "outputs": [
        {
          "output_type": "stream",
          "name": "stdout",
          "text": [
            "Training shape after PCA: (7080, 1000)\n",
            "Test shape after PCA: (489, 1000)\n",
            "Test Set Accuracy: 98.98%\n",
            "Classification Report:\n",
            "              precision    recall  f1-score   support\n",
            "\n",
            "           0       0.99      0.99      0.99       252\n",
            "           1       0.99      0.99      0.99       237\n",
            "\n",
            "    accuracy                           0.99       489\n",
            "   macro avg       0.99      0.99      0.99       489\n",
            "weighted avg       0.99      0.99      0.99       489\n",
            "\n"
          ]
        }
      ]
    }
  ]
}