{
  "nbformat": 4,
  "nbformat_minor": 0,
  "metadata": {
    "colab": {
      "provenance": []
    },
    "kernelspec": {
      "name": "python3",
      "display_name": "Python 3"
    },
    "language_info": {
      "name": "python"
    }
  },
  "cells": [
    {
      "cell_type": "markdown",
      "source": [
        "Using *RNN* + other classifiers"
      ],
      "metadata": {
        "id": "eLojURV_vvPZ"
      }
    },
    {
      "cell_type": "code",
      "source": [
        "import numpy as np\n",
        "import pandas as pd\n",
        "import tensorflow as tf\n",
        "from tensorflow.keras.models import Sequential\n",
        "from tensorflow.keras.layers import Embedding, SimpleRNN, Dense\n",
        "from sklearn.model_selection import train_test_split\n",
        "from tensorflow.keras.preprocessing.sequence import pad_sequences\n",
        "\n",
        "import pandas as pd\n",
        "import numpy as np\n",
        "from sklearn.model_selection import train_test_split\n",
        "from sklearn.metrics import accuracy_score\n",
        "from sklearn.linear_model import LogisticRegression\n",
        "from sklearn.ensemble import RandomForestClassifier\n",
        "import xgboost as xgb\n",
        "from tensorflow.keras.preprocessing.sequence import pad_sequences\n",
        "\n",
        "# Preprocessing function to map emoticons to integer values\n",
        "def preprocess_emoticons(train_path, test_path):\n",
        "    \"\"\"\n",
        "    Preprocess the input emoticons in the dataset by creating a unique integer mapping\n",
        "    for each distinct emoticon. This function returns preprocessed train and test datasets\n",
        "    along with the emoticon-to-integer mapping.\n",
        "\n",
        "    Args:\n",
        "    train_path (str): Path to the training dataset CSV file.\n",
        "    test_path (str): Path to the test dataset CSV file.\n",
        "\n",
        "    Returns:\n",
        "    train_input (pd.DataFrame): Preprocessed training dataset with mapped integers.\n",
        "    test_data (pd.DataFrame): Preprocessed test dataset with mapped integers.\n",
        "    emoticon_to_int (dict): Mapping from emoticons to unique integers.\n",
        "    \"\"\"\n",
        "    # Load train and test datasets\n",
        "    train_input = pd.read_csv(train_path)  # Assuming 'input_emoticon' and 'labels' columns\n",
        "    test_data = pd.read_csv(test_path)  # Assuming test_data has similar structure\n",
        "\n",
        "    # Step 1: Extract all unique emoticons from the training dataset\n",
        "    all_emoticons = ''.join(train_input['input_emoticon'].values)\n",
        "    unique_emoticons = sorted(set(all_emoticons))  # Sort for consistent mapping\n",
        "\n",
        "    # Step 2: Create the emoticon to integer mapping\n",
        "    emoticon_to_int = {emoticon: i for i, emoticon in enumerate(unique_emoticons)}\n",
        "\n",
        "    # Step 3: Preprocessing function to map emoticons to their corresponding integer values\n",
        "    def map_emoticons_to_int(emoticon_string):\n",
        "        return [emoticon_to_int[emoticon] for emoticon in emoticon_string]\n",
        "\n",
        "    # Apply the mapping to train and test datasets\n",
        "    train_input['mapped_input'] = train_input['input_emoticon'].apply(map_emoticons_to_int)\n",
        "    test_data['mapped_input'] = test_data['input_emoticon'].apply(map_emoticons_to_int)\n",
        "\n",
        "    return train_input, test_data, emoticon_to_int\n",
        "\n",
        "# Load and preprocess datasets\n",
        "train_path = \"/content/train_emoticon.csv\"\n",
        "test_path = \"/content/valid_emoticon.csv\"\n",
        "train_input, test_data, emoticon_to_int = preprocess_emoticons(train_path, test_path)\n",
        "\n",
        "# Extract features and labels\n",
        "X_train_raw = train_input['mapped_input'].tolist()\n",
        "y_train = train_input['label'].values\n",
        "X_test_raw = test_data['mapped_input'].tolist()\n",
        "y_test = test_data['label'].values\n",
        "\n",
        "# Step 1: Pad sequences to ensure all have the same length (13 in this case)\n",
        "max_length = 13  # Since each emoticon string is of length 13\n",
        "X_train = pad_sequences(X_train_raw, maxlen=max_length, padding='post', truncating='post')\n",
        "X_test = pad_sequences(X_test_raw, maxlen=max_length, padding='post', truncating='post')\n",
        "\n",
        "# Step 2: Split the training data into train and validation sets\n",
        "X_train, X_val, y_train, y_val = train_test_split(X_train, y_train, test_size=0.2, random_state=42)\n",
        "\n",
        "# Step 3: Define hyperparameters and the model\n",
        "vocab_size = len(emoticon_to_int)  # Number of unique emoticons\n",
        "embedding_dim = 20\n",
        "rnn_units = 48\n",
        "sequence_length = max_length  # Length of each input sequence\n",
        "\n",
        "# Build the RNN model\n",
        "model = Sequential([\n",
        "    Embedding(input_dim=vocab_size, output_dim=embedding_dim, input_length=sequence_length),\n",
        "    SimpleRNN(rnn_units, activation='tanh'),\n",
        "    Dense(1, activation='sigmoid')  # Binary classification\n",
        "])\n",
        "\n",
        "# Compile the model\n",
        "model.compile(optimizer='adam', loss='binary_crossentropy', metrics=['accuracy'])\n",
        "\n",
        "# Step 4: Train the model\n",
        "history = model.fit(X_train, y_train, epochs=10, validation_data=(X_val, y_val), batch_size=32)\n",
        "\n",
        "# Step 5: Evaluate the model on the test set\n",
        "test_loss, test_accuracy = model.evaluate(X_test, y_test)\n",
        "print(f\"Test Loss: {test_loss}\")\n",
        "print(f\"Test Accuracy: {test_accuracy}\")\n",
        "\n",
        "# Print the mapping for reference\n",
        "print(\"\\nEmoticon to Integer Mapping:\\n\", emoticon_to_int)\n",
        "\n",
        "# Print validation accuracy per epoch\n",
        "for epoch, val_acc in enumerate(history.history['val_accuracy']):\n",
        "    print(f\"Epoch {epoch + 1}: Validation Accuracy = {val_acc}\")\n",
        "print(model.summary())\n",
        "\n",
        "# Logistic Regression\n",
        "log_reg = LogisticRegression(max_iter=200)\n",
        "log_reg.fit(X_train, y_train)\n",
        "y_val_pred = log_reg.predict(X_val)\n",
        "log_reg_accuracy = accuracy_score(y_val, y_val_pred)\n",
        "print(f\"Logistic Regression Validation Accuracy: {log_reg_accuracy}\")\n",
        "\n",
        "# Random Forest Classifier\n",
        "rf_clf = RandomForestClassifier(n_estimators=100, random_state=42)\n",
        "rf_clf.fit(X_train, y_train)\n",
        "y_val_pred_rf = rf_clf.predict(X_val)\n",
        "rf_accuracy = accuracy_score(y_val, y_val_pred_rf)\n",
        "print(f\"Random Forest Validation Accuracy: {rf_accuracy}\")\n",
        "\n",
        "# XGBoost Classifier\n",
        "xgb_clf = xgb.XGBClassifier(use_label_encoder=False, eval_metric='logloss')\n",
        "xgb_clf.fit(X_train, y_train)\n",
        "y_val_pred_xgb = xgb_clf.predict(X_val)\n",
        "xgb_accuracy = accuracy_score(y_val, y_val_pred_xgb)\n",
        "print(f\"XGBoost Validation Accuracy: {xgb_accuracy}\")\n",
        "\n",
        "# Step 3: Test set evaluation for all models\n",
        "y_test_pred_log_reg = log_reg.predict(X_test)\n",
        "log_reg_test_accuracy = accuracy_score(y_test, y_test_pred_log_reg)\n",
        "print(f\"Logistic Regression Test Accuracy: {log_reg_test_accuracy}\")\n",
        "\n",
        "y_test_pred_rf = rf_clf.predict(X_test)\n",
        "rf_test_accuracy = accuracy_score(y_test, y_test_pred_rf)\n",
        "print(f\"Random Forest Test Accuracy: {rf_test_accuracy}\")\n",
        "\n",
        "y_test_pred_xgb = xgb_clf.predict(X_test)\n",
        "xgb_test_accuracy = accuracy_score(y_test, y_test_pred_xgb)\n",
        "print(f\"XGBoost Test Accuracy: {xgb_test_accuracy}\")"
      ],
      "metadata": {
        "colab": {
          "base_uri": "https://localhost:8080/",
          "height": 1000
        },
        "id": "k6GoVk8vvwmj",
        "outputId": "d47af6e9-0e0d-4d19-be3e-41749a29d3c9"
      },
      "execution_count": 1,
      "outputs": [
        {
          "output_type": "stream",
          "name": "stderr",
          "text": [
            "/usr/local/lib/python3.10/dist-packages/keras/src/layers/core/embedding.py:90: UserWarning: Argument `input_length` is deprecated. Just remove it.\n",
            "  warnings.warn(\n"
          ]
        },
        {
          "output_type": "stream",
          "name": "stdout",
          "text": [
            "Epoch 1/10\n",
            "\u001b[1m177/177\u001b[0m \u001b[32m━━━━━━━━━━━━━━━━━━━━\u001b[0m\u001b[37m\u001b[0m \u001b[1m4s\u001b[0m 9ms/step - accuracy: 0.5808 - loss: 0.6570 - val_accuracy: 0.8679 - val_loss: 0.3689\n",
            "Epoch 2/10\n",
            "\u001b[1m177/177\u001b[0m \u001b[32m━━━━━━━━━━━━━━━━━━━━\u001b[0m\u001b[37m\u001b[0m \u001b[1m1s\u001b[0m 5ms/step - accuracy: 0.8903 - loss: 0.2857 - val_accuracy: 0.9258 - val_loss: 0.1974\n",
            "Epoch 3/10\n",
            "\u001b[1m177/177\u001b[0m \u001b[32m━━━━━━━━━━━━━━━━━━━━\u001b[0m\u001b[37m\u001b[0m \u001b[1m1s\u001b[0m 5ms/step - accuracy: 0.9360 - loss: 0.1738 - val_accuracy: 0.9336 - val_loss: 0.1624\n",
            "Epoch 4/10\n",
            "\u001b[1m177/177\u001b[0m \u001b[32m━━━━━━━━━━━━━━━━━━━━\u001b[0m\u001b[37m\u001b[0m \u001b[1m1s\u001b[0m 5ms/step - accuracy: 0.9503 - loss: 0.1337 - val_accuracy: 0.9484 - val_loss: 0.1326\n",
            "Epoch 5/10\n",
            "\u001b[1m177/177\u001b[0m \u001b[32m━━━━━━━━━━━━━━━━━━━━\u001b[0m\u001b[37m\u001b[0m \u001b[1m1s\u001b[0m 5ms/step - accuracy: 0.9598 - loss: 0.1087 - val_accuracy: 0.9407 - val_loss: 0.1361\n",
            "Epoch 6/10\n",
            "\u001b[1m177/177\u001b[0m \u001b[32m━━━━━━━━━━━━━━━━━━━━\u001b[0m\u001b[37m\u001b[0m \u001b[1m1s\u001b[0m 5ms/step - accuracy: 0.9650 - loss: 0.0920 - val_accuracy: 0.9548 - val_loss: 0.1132\n",
            "Epoch 7/10\n",
            "\u001b[1m177/177\u001b[0m \u001b[32m━━━━━━━━━━━━━━━━━━━━\u001b[0m\u001b[37m\u001b[0m \u001b[1m1s\u001b[0m 6ms/step - accuracy: 0.9756 - loss: 0.0692 - val_accuracy: 0.9527 - val_loss: 0.1218\n",
            "Epoch 8/10\n",
            "\u001b[1m177/177\u001b[0m \u001b[32m━━━━━━━━━━━━━━━━━━━━\u001b[0m\u001b[37m\u001b[0m \u001b[1m1s\u001b[0m 6ms/step - accuracy: 0.9773 - loss: 0.0637 - val_accuracy: 0.9442 - val_loss: 0.1434\n",
            "Epoch 9/10\n",
            "\u001b[1m177/177\u001b[0m \u001b[32m━━━━━━━━━━━━━━━━━━━━\u001b[0m\u001b[37m\u001b[0m \u001b[1m1s\u001b[0m 6ms/step - accuracy: 0.9779 - loss: 0.0599 - val_accuracy: 0.9393 - val_loss: 0.1356\n",
            "Epoch 10/10\n",
            "\u001b[1m177/177\u001b[0m \u001b[32m━━━━━━━━━━━━━━━━━━━━\u001b[0m\u001b[37m\u001b[0m \u001b[1m3s\u001b[0m 14ms/step - accuracy: 0.9821 - loss: 0.0497 - val_accuracy: 0.9506 - val_loss: 0.1287\n",
            "\u001b[1m16/16\u001b[0m \u001b[32m━━━━━━━━━━━━━━━━━━━━\u001b[0m\u001b[37m\u001b[0m \u001b[1m0s\u001b[0m 5ms/step - accuracy: 0.9555 - loss: 0.1087\n",
            "Test Loss: 0.13123102486133575\n",
            "Test Accuracy: 0.9509202241897583\n",
            "\n",
            "Emoticon to Integer Mapping:\n",
            " {'😀': 0, '😁': 1, '😂': 2, '😃': 3, '😄': 4, '😅': 5, '😆': 6, '😇': 7, '😉': 8, '😊': 9, '😋': 10, '😌': 11, '😍': 12, '😎': 13, '😏': 14, '😐': 15, '😑': 16, '😒': 17, '😓': 18, '😔': 19, '😕': 20, '😖': 21, '😗': 22, '😘': 23, '😙': 24, '😚': 25, '😛': 26, '😜': 27, '😝': 28, '😞': 29, '😟': 30, '😠': 31, '😡': 32, '😢': 33, '😣': 34, '😤': 35, '😥': 36, '😦': 37, '😧': 38, '😨': 39, '😩': 40, '😪': 41, '😫': 42, '😬': 43, '😭': 44, '😮': 45, '😯': 46, '😰': 47, '😱': 48, '😲': 49, '😳': 50, '😴': 51, '😵': 52, '😶': 53, '😷': 54, '😸': 55, '😹': 56, '😺': 57, '😻': 58, '😼': 59, '😽': 60, '😾': 61, '😿': 62, '🙀': 63, '🙁': 64, '🙃': 65, '🙄': 66, '🙅': 67, '🙆': 68, '🙇': 69, '🙈': 70, '🙉': 71, '🙊': 72, '🙋': 73, '🙌': 74, '🙍': 75, '🙎': 76, '🙏': 77, '🙐': 78, '🙑': 79, '🙒': 80, '🙓': 81, '🙔': 82, '🙕': 83, '🙖': 84, '🙗': 85, '🙘': 86, '🙙': 87, '🙚': 88, '🙛': 89, '🙜': 90, '🙞': 91, '🙟': 92, '🙠': 93, '🙢': 94, '🙣': 95, '🙤': 96, '🙥': 97, '🙦': 98, '🙧': 99, '🙨': 100, '🙩': 101, '🙪': 102, '🙫': 103, '🙬': 104, '🙮': 105, '🙯': 106, '🙰': 107, '🙱': 108, '🙲': 109, '🙳': 110, '🙴': 111, '🙶': 112, '🙷': 113, '🙸': 114, '🙹': 115, '🙻': 116, '🙼': 117, '🙽': 118, '🙾': 119, '🙿': 120, '🚀': 121, '🚁': 122, '🚂': 123, '🚃': 124, '🚄': 125, '🚅': 126, '🚆': 127, '🚇': 128, '🚈': 129, '🚉': 130, '🚊': 131, '🚋': 132, '🚌': 133, '🚍': 134, '🚎': 135, '🚏': 136, '🚐': 137, '🚑': 138, '🚒': 139, '🚓': 140, '🚔': 141, '🚕': 142, '🚖': 143, '🚗': 144, '🚘': 145, '🚙': 146, '🚚': 147, '🚛': 148, '🚜': 149, '🚝': 150, '🚞': 151, '🚟': 152, '🚠': 153, '🚡': 154, '🚢': 155, '🚣': 156, '🚤': 157, '🚥': 158, '🚦': 159, '🚧': 160, '🚨': 161, '🚩': 162, '🚪': 163, '🚫': 164, '🚭': 165, '🚮': 166, '🚯': 167, '🚰': 168, '🚱': 169, '🚲': 170, '🚳': 171, '🚴': 172, '🚵': 173, '🚶': 174, '🚷': 175, '🚸': 176, '🚹': 177, '🚺': 178, '🚼': 179, '🚽': 180, '🚾': 181, '🚿': 182, '🛀': 183, '🛁': 184, '🛂': 185, '🛄': 186, '🛅': 187, '🛆': 188, '🛇': 189, '🛈': 190, '🛉': 191, '🛊': 192, '🛋': 193, '🛌': 194, '🛍': 195, '🛎': 196, '🛏': 197, '🛐': 198, '🛑': 199, '🛒': 200, '🛓': 201, '🛔': 202, '🛕': 203, '🛖': 204, '🛗': 205, '\\U0001f6d8': 206, '\\U0001f6d9': 207, '\\U0001f6db': 208, '\\U0001f6dc': 209, '\\U0001f6dd': 210, '\\U0001f6de': 211, '\\U0001f6df': 212, '🛡': 213}\n",
            "Epoch 1: Validation Accuracy = 0.8679378628730774\n",
            "Epoch 2: Validation Accuracy = 0.9258474707603455\n",
            "Epoch 3: Validation Accuracy = 0.9336158037185669\n",
            "Epoch 4: Validation Accuracy = 0.9484463334083557\n",
            "Epoch 5: Validation Accuracy = 0.9406779408454895\n",
            "Epoch 6: Validation Accuracy = 0.9548022747039795\n",
            "Epoch 7: Validation Accuracy = 0.9526836276054382\n",
            "Epoch 8: Validation Accuracy = 0.9442090392112732\n",
            "Epoch 9: Validation Accuracy = 0.9392655491828918\n",
            "Epoch 10: Validation Accuracy = 0.950564980506897\n"
          ]
        },
        {
          "output_type": "display_data",
          "data": {
            "text/plain": [
              "\u001b[1mModel: \"sequential\"\u001b[0m\n"
            ],
            "text/html": [
              "<pre style=\"white-space:pre;overflow-x:auto;line-height:normal;font-family:Menlo,'DejaVu Sans Mono',consolas,'Courier New',monospace\"><span style=\"font-weight: bold\">Model: \"sequential\"</span>\n",
              "</pre>\n"
            ]
          },
          "metadata": {}
        },
        {
          "output_type": "display_data",
          "data": {
            "text/plain": [
              "┏━━━━━━━━━━━━━━━━━━━━━━━━━━━━━━━━━━━━━━┳━━━━━━━━━━━━━━━━━━━━━━━━━━━━━┳━━━━━━━━━━━━━━━━━┓\n",
              "┃\u001b[1m \u001b[0m\u001b[1mLayer (type)                        \u001b[0m\u001b[1m \u001b[0m┃\u001b[1m \u001b[0m\u001b[1mOutput Shape               \u001b[0m\u001b[1m \u001b[0m┃\u001b[1m \u001b[0m\u001b[1m        Param #\u001b[0m\u001b[1m \u001b[0m┃\n",
              "┡━━━━━━━━━━━━━━━━━━━━━━━━━━━━━━━━━━━━━━╇━━━━━━━━━━━━━━━━━━━━━━━━━━━━━╇━━━━━━━━━━━━━━━━━┩\n",
              "│ embedding (\u001b[38;5;33mEmbedding\u001b[0m)                │ (\u001b[38;5;34m32\u001b[0m, \u001b[38;5;34m13\u001b[0m, \u001b[38;5;34m20\u001b[0m)                │           \u001b[38;5;34m4,280\u001b[0m │\n",
              "├──────────────────────────────────────┼─────────────────────────────┼─────────────────┤\n",
              "│ simple_rnn (\u001b[38;5;33mSimpleRNN\u001b[0m)               │ (\u001b[38;5;34m32\u001b[0m, \u001b[38;5;34m48\u001b[0m)                    │           \u001b[38;5;34m3,312\u001b[0m │\n",
              "├──────────────────────────────────────┼─────────────────────────────┼─────────────────┤\n",
              "│ dense (\u001b[38;5;33mDense\u001b[0m)                        │ (\u001b[38;5;34m32\u001b[0m, \u001b[38;5;34m1\u001b[0m)                     │              \u001b[38;5;34m49\u001b[0m │\n",
              "└──────────────────────────────────────┴─────────────────────────────┴─────────────────┘\n"
            ],
            "text/html": [
              "<pre style=\"white-space:pre;overflow-x:auto;line-height:normal;font-family:Menlo,'DejaVu Sans Mono',consolas,'Courier New',monospace\">┏━━━━━━━━━━━━━━━━━━━━━━━━━━━━━━━━━━━━━━┳━━━━━━━━━━━━━━━━━━━━━━━━━━━━━┳━━━━━━━━━━━━━━━━━┓\n",
              "┃<span style=\"font-weight: bold\"> Layer (type)                         </span>┃<span style=\"font-weight: bold\"> Output Shape                </span>┃<span style=\"font-weight: bold\">         Param # </span>┃\n",
              "┡━━━━━━━━━━━━━━━━━━━━━━━━━━━━━━━━━━━━━━╇━━━━━━━━━━━━━━━━━━━━━━━━━━━━━╇━━━━━━━━━━━━━━━━━┩\n",
              "│ embedding (<span style=\"color: #0087ff; text-decoration-color: #0087ff\">Embedding</span>)                │ (<span style=\"color: #00af00; text-decoration-color: #00af00\">32</span>, <span style=\"color: #00af00; text-decoration-color: #00af00\">13</span>, <span style=\"color: #00af00; text-decoration-color: #00af00\">20</span>)                │           <span style=\"color: #00af00; text-decoration-color: #00af00\">4,280</span> │\n",
              "├──────────────────────────────────────┼─────────────────────────────┼─────────────────┤\n",
              "│ simple_rnn (<span style=\"color: #0087ff; text-decoration-color: #0087ff\">SimpleRNN</span>)               │ (<span style=\"color: #00af00; text-decoration-color: #00af00\">32</span>, <span style=\"color: #00af00; text-decoration-color: #00af00\">48</span>)                    │           <span style=\"color: #00af00; text-decoration-color: #00af00\">3,312</span> │\n",
              "├──────────────────────────────────────┼─────────────────────────────┼─────────────────┤\n",
              "│ dense (<span style=\"color: #0087ff; text-decoration-color: #0087ff\">Dense</span>)                        │ (<span style=\"color: #00af00; text-decoration-color: #00af00\">32</span>, <span style=\"color: #00af00; text-decoration-color: #00af00\">1</span>)                     │              <span style=\"color: #00af00; text-decoration-color: #00af00\">49</span> │\n",
              "└──────────────────────────────────────┴─────────────────────────────┴─────────────────┘\n",
              "</pre>\n"
            ]
          },
          "metadata": {}
        },
        {
          "output_type": "display_data",
          "data": {
            "text/plain": [
              "\u001b[1m Total params: \u001b[0m\u001b[38;5;34m22,925\u001b[0m (89.55 KB)\n"
            ],
            "text/html": [
              "<pre style=\"white-space:pre;overflow-x:auto;line-height:normal;font-family:Menlo,'DejaVu Sans Mono',consolas,'Courier New',monospace\"><span style=\"font-weight: bold\"> Total params: </span><span style=\"color: #00af00; text-decoration-color: #00af00\">22,925</span> (89.55 KB)\n",
              "</pre>\n"
            ]
          },
          "metadata": {}
        },
        {
          "output_type": "display_data",
          "data": {
            "text/plain": [
              "\u001b[1m Trainable params: \u001b[0m\u001b[38;5;34m7,641\u001b[0m (29.85 KB)\n"
            ],
            "text/html": [
              "<pre style=\"white-space:pre;overflow-x:auto;line-height:normal;font-family:Menlo,'DejaVu Sans Mono',consolas,'Courier New',monospace\"><span style=\"font-weight: bold\"> Trainable params: </span><span style=\"color: #00af00; text-decoration-color: #00af00\">7,641</span> (29.85 KB)\n",
              "</pre>\n"
            ]
          },
          "metadata": {}
        },
        {
          "output_type": "display_data",
          "data": {
            "text/plain": [
              "\u001b[1m Non-trainable params: \u001b[0m\u001b[38;5;34m0\u001b[0m (0.00 B)\n"
            ],
            "text/html": [
              "<pre style=\"white-space:pre;overflow-x:auto;line-height:normal;font-family:Menlo,'DejaVu Sans Mono',consolas,'Courier New',monospace\"><span style=\"font-weight: bold\"> Non-trainable params: </span><span style=\"color: #00af00; text-decoration-color: #00af00\">0</span> (0.00 B)\n",
              "</pre>\n"
            ]
          },
          "metadata": {}
        },
        {
          "output_type": "display_data",
          "data": {
            "text/plain": [
              "\u001b[1m Optimizer params: \u001b[0m\u001b[38;5;34m15,284\u001b[0m (59.71 KB)\n"
            ],
            "text/html": [
              "<pre style=\"white-space:pre;overflow-x:auto;line-height:normal;font-family:Menlo,'DejaVu Sans Mono',consolas,'Courier New',monospace\"><span style=\"font-weight: bold\"> Optimizer params: </span><span style=\"color: #00af00; text-decoration-color: #00af00\">15,284</span> (59.71 KB)\n",
              "</pre>\n"
            ]
          },
          "metadata": {}
        },
        {
          "output_type": "stream",
          "name": "stdout",
          "text": [
            "None\n",
            "Logistic Regression Validation Accuracy: 0.53954802259887\n",
            "Random Forest Validation Accuracy: 0.5727401129943502\n"
          ]
        },
        {
          "output_type": "stream",
          "name": "stderr",
          "text": [
            "/usr/local/lib/python3.10/dist-packages/xgboost/core.py:158: UserWarning: [17:48:03] WARNING: /workspace/src/learner.cc:740: \n",
            "Parameters: { \"use_label_encoder\" } are not used.\n",
            "\n",
            "  warnings.warn(smsg, UserWarning)\n"
          ]
        },
        {
          "output_type": "stream",
          "name": "stdout",
          "text": [
            "XGBoost Validation Accuracy: 0.643361581920904\n",
            "Logistic Regression Test Accuracy: 0.591002044989775\n",
            "Random Forest Test Accuracy: 0.6380368098159509\n",
            "XGBoost Test Accuracy: 0.6503067484662577\n"
          ]
        }
      ]
    },
    {
      "cell_type": "markdown",
      "source": [
        "CNNs\n",
        "Experiments in finetuning showed that\n",
        "1. Using a smaller embedding size gave a better accuracy showing that it unnecessary complexity slowed the model.\n",
        "2. Removing the dense layer and replacing it with flatten increased the accuracy (deep network not required)\n",
        "3.Decreasing number of filters and number of epochs in conv increased accuracy\n",
        "4. using maxpooling 1d with pool size=1 gave better accuract indicating that each feature was important\n",
        "5. Using convolution multiple times increased the accurcy(captures spatial relations better)"
      ],
      "metadata": {
        "id": "L_xp_BkKOST0"
      }
    },
    {
      "cell_type": "code",
      "source": [
        "import numpy as np\n",
        "import pandas as pd\n",
        "import tensorflow as tf\n",
        "from sklearn.model_selection import train_test_split\n",
        "from tensorflow.keras.models import Sequential\n",
        "from tensorflow.keras.layers import Embedding, Conv1D, GlobalMaxPooling1D, Dense, Flatten\n",
        "from tensorflow.keras.preprocessing.sequence import pad_sequences\n",
        "import random\n",
        "\n",
        "# def set_seed(seed_value=42):\n",
        "#     np.random.seed(seed_value)\n",
        "#     random.seed(seed_value)\n",
        "#     tf.random.set_seed(seed_value)\n",
        "\n",
        "vocab_size = len(emoticon_to_int)  # Number of unique emoticons\n",
        "embedding_dim = 10\n",
        "num_filters = 8\n",
        "kernel_size = 3\n",
        "sequence_length = max_length  # Length of each input sequence\n",
        "# set_seed()\n",
        "\n",
        "# Build the CNN model\n",
        "model = Sequential([\n",
        "    Embedding(input_dim=vocab_size, output_dim=embedding_dim, input_length=sequence_length),\n",
        "    Conv1D(filters=num_filters, kernel_size=kernel_size, activation='relu'),\n",
        "    Conv1D(filters=num_filters, kernel_size=kernel_size, activation='relu'),\n",
        "    Flatten(),\n",
        "    # Dense(8, activation='relu'),\n",
        "    Dense(1, activation='sigmoid')  # Binary classification\n",
        "])\n",
        "\n",
        "# Compile the model\n",
        "model.compile(optimizer='adam', loss='binary_crossentropy', metrics=['accuracy'])\n",
        "\n",
        "# Step 4: Train the CNN model\n",
        "history = model.fit(X_train, y_train, epochs=10, validation_data=(X_val, y_val), batch_size=16)\n",
        "\n",
        "# Step 5: Evaluate the model on the test set\n",
        "test_loss, test_accuracy = model.evaluate(X_test, y_test)\n",
        "print(f\"Test Loss: {test_loss}\")\n",
        "print(f\"Test Accuracy: {test_accuracy}\")\n",
        "\n",
        "# Print validation accuracy per epoch\n",
        "for epoch, val_acc in enumerate(history.history['val_accuracy']):\n",
        "    print(f\"Epoch {epoch + 1}: Validation Accuracy = {val_acc}\")\n",
        "print(model.summary())"
      ],
      "metadata": {
        "colab": {
          "base_uri": "https://localhost:8080/",
          "height": 948
        },
        "id": "9OhsfjSwOTQb",
        "outputId": "d99955b2-89b0-488f-9a7e-14046d8cd372"
      },
      "execution_count": 2,
      "outputs": [
        {
          "output_type": "stream",
          "name": "stdout",
          "text": [
            "Epoch 1/10\n"
          ]
        },
        {
          "output_type": "stream",
          "name": "stderr",
          "text": [
            "/usr/local/lib/python3.10/dist-packages/keras/src/layers/core/embedding.py:90: UserWarning: Argument `input_length` is deprecated. Just remove it.\n",
            "  warnings.warn(\n"
          ]
        },
        {
          "output_type": "stream",
          "name": "stdout",
          "text": [
            "\u001b[1m354/354\u001b[0m \u001b[32m━━━━━━━━━━━━━━━━━━━━\u001b[0m\u001b[37m\u001b[0m \u001b[1m3s\u001b[0m 3ms/step - accuracy: 0.5684 - loss: 0.6693 - val_accuracy: 0.8623 - val_loss: 0.3191\n",
            "Epoch 2/10\n",
            "\u001b[1m354/354\u001b[0m \u001b[32m━━━━━━━━━━━━━━━━━━━━\u001b[0m\u001b[37m\u001b[0m \u001b[1m1s\u001b[0m 2ms/step - accuracy: 0.8713 - loss: 0.3027 - val_accuracy: 0.9040 - val_loss: 0.2223\n",
            "Epoch 3/10\n",
            "\u001b[1m354/354\u001b[0m \u001b[32m━━━━━━━━━━━━━━━━━━━━\u001b[0m\u001b[37m\u001b[0m \u001b[1m1s\u001b[0m 4ms/step - accuracy: 0.9172 - loss: 0.2068 - val_accuracy: 0.9350 - val_loss: 0.1686\n",
            "Epoch 4/10\n",
            "\u001b[1m354/354\u001b[0m \u001b[32m━━━━━━━━━━━━━━━━━━━━\u001b[0m\u001b[37m\u001b[0m \u001b[1m1s\u001b[0m 4ms/step - accuracy: 0.9482 - loss: 0.1478 - val_accuracy: 0.9555 - val_loss: 0.1276\n",
            "Epoch 5/10\n",
            "\u001b[1m354/354\u001b[0m \u001b[32m━━━━━━━━━━━━━━━━━━━━\u001b[0m\u001b[37m\u001b[0m \u001b[1m2s\u001b[0m 2ms/step - accuracy: 0.9603 - loss: 0.1135 - val_accuracy: 0.9527 - val_loss: 0.1172\n",
            "Epoch 6/10\n",
            "\u001b[1m354/354\u001b[0m \u001b[32m━━━━━━━━━━━━━━━━━━━━\u001b[0m\u001b[37m\u001b[0m \u001b[1m1s\u001b[0m 2ms/step - accuracy: 0.9708 - loss: 0.0875 - val_accuracy: 0.9647 - val_loss: 0.0969\n",
            "Epoch 7/10\n",
            "\u001b[1m354/354\u001b[0m \u001b[32m━━━━━━━━━━━━━━━━━━━━\u001b[0m\u001b[37m\u001b[0m \u001b[1m1s\u001b[0m 2ms/step - accuracy: 0.9779 - loss: 0.0742 - val_accuracy: 0.9605 - val_loss: 0.0948\n",
            "Epoch 8/10\n",
            "\u001b[1m354/354\u001b[0m \u001b[32m━━━━━━━━━━━━━━━━━━━━\u001b[0m\u001b[37m\u001b[0m \u001b[1m1s\u001b[0m 2ms/step - accuracy: 0.9800 - loss: 0.0654 - val_accuracy: 0.9576 - val_loss: 0.0901\n",
            "Epoch 9/10\n",
            "\u001b[1m354/354\u001b[0m \u001b[32m━━━━━━━━━━━━━━━━━━━━\u001b[0m\u001b[37m\u001b[0m \u001b[1m1s\u001b[0m 2ms/step - accuracy: 0.9838 - loss: 0.0546 - val_accuracy: 0.9675 - val_loss: 0.0831\n",
            "Epoch 10/10\n",
            "\u001b[1m354/354\u001b[0m \u001b[32m━━━━━━━━━━━━━━━━━━━━\u001b[0m\u001b[37m\u001b[0m \u001b[1m1s\u001b[0m 2ms/step - accuracy: 0.9844 - loss: 0.0510 - val_accuracy: 0.9675 - val_loss: 0.0759\n",
            "\u001b[1m16/16\u001b[0m \u001b[32m━━━━━━━━━━━━━━━━━━━━\u001b[0m\u001b[37m\u001b[0m \u001b[1m0s\u001b[0m 2ms/step - accuracy: 0.9626 - loss: 0.0695 \n",
            "Test Loss: 0.074384905397892\n",
            "Test Accuracy: 0.9611452221870422\n",
            "Epoch 1: Validation Accuracy = 0.8622881174087524\n",
            "Epoch 2: Validation Accuracy = 0.903954803943634\n",
            "Epoch 3: Validation Accuracy = 0.9350282549858093\n",
            "Epoch 4: Validation Accuracy = 0.9555084705352783\n",
            "Epoch 5: Validation Accuracy = 0.9526836276054382\n",
            "Epoch 6: Validation Accuracy = 0.9646892547607422\n",
            "Epoch 7: Validation Accuracy = 0.9604519605636597\n",
            "Epoch 8: Validation Accuracy = 0.9576271176338196\n",
            "Epoch 9: Validation Accuracy = 0.9675140976905823\n",
            "Epoch 10: Validation Accuracy = 0.9675140976905823\n"
          ]
        },
        {
          "output_type": "display_data",
          "data": {
            "text/plain": [
              "\u001b[1mModel: \"sequential_1\"\u001b[0m\n"
            ],
            "text/html": [
              "<pre style=\"white-space:pre;overflow-x:auto;line-height:normal;font-family:Menlo,'DejaVu Sans Mono',consolas,'Courier New',monospace\"><span style=\"font-weight: bold\">Model: \"sequential_1\"</span>\n",
              "</pre>\n"
            ]
          },
          "metadata": {}
        },
        {
          "output_type": "display_data",
          "data": {
            "text/plain": [
              "┏━━━━━━━━━━━━━━━━━━━━━━━━━━━━━━━━━━━━━━┳━━━━━━━━━━━━━━━━━━━━━━━━━━━━━┳━━━━━━━━━━━━━━━━━┓\n",
              "┃\u001b[1m \u001b[0m\u001b[1mLayer (type)                        \u001b[0m\u001b[1m \u001b[0m┃\u001b[1m \u001b[0m\u001b[1mOutput Shape               \u001b[0m\u001b[1m \u001b[0m┃\u001b[1m \u001b[0m\u001b[1m        Param #\u001b[0m\u001b[1m \u001b[0m┃\n",
              "┡━━━━━━━━━━━━━━━━━━━━━━━━━━━━━━━━━━━━━━╇━━━━━━━━━━━━━━━━━━━━━━━━━━━━━╇━━━━━━━━━━━━━━━━━┩\n",
              "│ embedding_1 (\u001b[38;5;33mEmbedding\u001b[0m)              │ (\u001b[38;5;34m16\u001b[0m, \u001b[38;5;34m13\u001b[0m, \u001b[38;5;34m10\u001b[0m)                │           \u001b[38;5;34m2,140\u001b[0m │\n",
              "├──────────────────────────────────────┼─────────────────────────────┼─────────────────┤\n",
              "│ conv1d (\u001b[38;5;33mConv1D\u001b[0m)                      │ (\u001b[38;5;34m16\u001b[0m, \u001b[38;5;34m11\u001b[0m, \u001b[38;5;34m8\u001b[0m)                 │             \u001b[38;5;34m248\u001b[0m │\n",
              "├──────────────────────────────────────┼─────────────────────────────┼─────────────────┤\n",
              "│ conv1d_1 (\u001b[38;5;33mConv1D\u001b[0m)                    │ (\u001b[38;5;34m16\u001b[0m, \u001b[38;5;34m9\u001b[0m, \u001b[38;5;34m8\u001b[0m)                  │             \u001b[38;5;34m200\u001b[0m │\n",
              "├──────────────────────────────────────┼─────────────────────────────┼─────────────────┤\n",
              "│ flatten (\u001b[38;5;33mFlatten\u001b[0m)                    │ (\u001b[38;5;34m16\u001b[0m, \u001b[38;5;34m72\u001b[0m)                    │               \u001b[38;5;34m0\u001b[0m │\n",
              "├──────────────────────────────────────┼─────────────────────────────┼─────────────────┤\n",
              "│ dense_1 (\u001b[38;5;33mDense\u001b[0m)                      │ (\u001b[38;5;34m16\u001b[0m, \u001b[38;5;34m1\u001b[0m)                     │              \u001b[38;5;34m73\u001b[0m │\n",
              "└──────────────────────────────────────┴─────────────────────────────┴─────────────────┘\n"
            ],
            "text/html": [
              "<pre style=\"white-space:pre;overflow-x:auto;line-height:normal;font-family:Menlo,'DejaVu Sans Mono',consolas,'Courier New',monospace\">┏━━━━━━━━━━━━━━━━━━━━━━━━━━━━━━━━━━━━━━┳━━━━━━━━━━━━━━━━━━━━━━━━━━━━━┳━━━━━━━━━━━━━━━━━┓\n",
              "┃<span style=\"font-weight: bold\"> Layer (type)                         </span>┃<span style=\"font-weight: bold\"> Output Shape                </span>┃<span style=\"font-weight: bold\">         Param # </span>┃\n",
              "┡━━━━━━━━━━━━━━━━━━━━━━━━━━━━━━━━━━━━━━╇━━━━━━━━━━━━━━━━━━━━━━━━━━━━━╇━━━━━━━━━━━━━━━━━┩\n",
              "│ embedding_1 (<span style=\"color: #0087ff; text-decoration-color: #0087ff\">Embedding</span>)              │ (<span style=\"color: #00af00; text-decoration-color: #00af00\">16</span>, <span style=\"color: #00af00; text-decoration-color: #00af00\">13</span>, <span style=\"color: #00af00; text-decoration-color: #00af00\">10</span>)                │           <span style=\"color: #00af00; text-decoration-color: #00af00\">2,140</span> │\n",
              "├──────────────────────────────────────┼─────────────────────────────┼─────────────────┤\n",
              "│ conv1d (<span style=\"color: #0087ff; text-decoration-color: #0087ff\">Conv1D</span>)                      │ (<span style=\"color: #00af00; text-decoration-color: #00af00\">16</span>, <span style=\"color: #00af00; text-decoration-color: #00af00\">11</span>, <span style=\"color: #00af00; text-decoration-color: #00af00\">8</span>)                 │             <span style=\"color: #00af00; text-decoration-color: #00af00\">248</span> │\n",
              "├──────────────────────────────────────┼─────────────────────────────┼─────────────────┤\n",
              "│ conv1d_1 (<span style=\"color: #0087ff; text-decoration-color: #0087ff\">Conv1D</span>)                    │ (<span style=\"color: #00af00; text-decoration-color: #00af00\">16</span>, <span style=\"color: #00af00; text-decoration-color: #00af00\">9</span>, <span style=\"color: #00af00; text-decoration-color: #00af00\">8</span>)                  │             <span style=\"color: #00af00; text-decoration-color: #00af00\">200</span> │\n",
              "├──────────────────────────────────────┼─────────────────────────────┼─────────────────┤\n",
              "│ flatten (<span style=\"color: #0087ff; text-decoration-color: #0087ff\">Flatten</span>)                    │ (<span style=\"color: #00af00; text-decoration-color: #00af00\">16</span>, <span style=\"color: #00af00; text-decoration-color: #00af00\">72</span>)                    │               <span style=\"color: #00af00; text-decoration-color: #00af00\">0</span> │\n",
              "├──────────────────────────────────────┼─────────────────────────────┼─────────────────┤\n",
              "│ dense_1 (<span style=\"color: #0087ff; text-decoration-color: #0087ff\">Dense</span>)                      │ (<span style=\"color: #00af00; text-decoration-color: #00af00\">16</span>, <span style=\"color: #00af00; text-decoration-color: #00af00\">1</span>)                     │              <span style=\"color: #00af00; text-decoration-color: #00af00\">73</span> │\n",
              "└──────────────────────────────────────┴─────────────────────────────┴─────────────────┘\n",
              "</pre>\n"
            ]
          },
          "metadata": {}
        },
        {
          "output_type": "display_data",
          "data": {
            "text/plain": [
              "\u001b[1m Total params: \u001b[0m\u001b[38;5;34m7,985\u001b[0m (31.20 KB)\n"
            ],
            "text/html": [
              "<pre style=\"white-space:pre;overflow-x:auto;line-height:normal;font-family:Menlo,'DejaVu Sans Mono',consolas,'Courier New',monospace\"><span style=\"font-weight: bold\"> Total params: </span><span style=\"color: #00af00; text-decoration-color: #00af00\">7,985</span> (31.20 KB)\n",
              "</pre>\n"
            ]
          },
          "metadata": {}
        },
        {
          "output_type": "display_data",
          "data": {
            "text/plain": [
              "\u001b[1m Trainable params: \u001b[0m\u001b[38;5;34m2,661\u001b[0m (10.39 KB)\n"
            ],
            "text/html": [
              "<pre style=\"white-space:pre;overflow-x:auto;line-height:normal;font-family:Menlo,'DejaVu Sans Mono',consolas,'Courier New',monospace\"><span style=\"font-weight: bold\"> Trainable params: </span><span style=\"color: #00af00; text-decoration-color: #00af00\">2,661</span> (10.39 KB)\n",
              "</pre>\n"
            ]
          },
          "metadata": {}
        },
        {
          "output_type": "display_data",
          "data": {
            "text/plain": [
              "\u001b[1m Non-trainable params: \u001b[0m\u001b[38;5;34m0\u001b[0m (0.00 B)\n"
            ],
            "text/html": [
              "<pre style=\"white-space:pre;overflow-x:auto;line-height:normal;font-family:Menlo,'DejaVu Sans Mono',consolas,'Courier New',monospace\"><span style=\"font-weight: bold\"> Non-trainable params: </span><span style=\"color: #00af00; text-decoration-color: #00af00\">0</span> (0.00 B)\n",
              "</pre>\n"
            ]
          },
          "metadata": {}
        },
        {
          "output_type": "display_data",
          "data": {
            "text/plain": [
              "\u001b[1m Optimizer params: \u001b[0m\u001b[38;5;34m5,324\u001b[0m (20.80 KB)\n"
            ],
            "text/html": [
              "<pre style=\"white-space:pre;overflow-x:auto;line-height:normal;font-family:Menlo,'DejaVu Sans Mono',consolas,'Courier New',monospace\"><span style=\"font-weight: bold\"> Optimizer params: </span><span style=\"color: #00af00; text-decoration-color: #00af00\">5,324</span> (20.80 KB)\n",
              "</pre>\n"
            ]
          },
          "metadata": {}
        },
        {
          "output_type": "stream",
          "name": "stdout",
          "text": [
            "None\n"
          ]
        }
      ]
    },
    {
      "cell_type": "markdown",
      "source": [
        "integrating different models with the above cnn\n",
        "---> meaning that the last layer of features in the cnn model was extracted out. These were proved to be very good features as using Logistic regression on these featrues yielded maximum accuracy"
      ],
      "metadata": {
        "id": "vpV3mR0ZWFuQ"
      }
    },
    {
      "cell_type": "code",
      "source": [
        "from tensorflow.keras.layers import SimpleRNN\n",
        "from tensorflow.keras.models import Sequential\n",
        "from sklearn.ensemble import RandomForestClassifier\n",
        "from sklearn.linear_model import LogisticRegression\n",
        "from sklearn.svm import SVC\n",
        "from sklearn.metrics import accuracy_score\n",
        "from xgboost import XGBClassifier\n",
        "\n",
        "feature_extractor_cnn = Sequential(model.layers[:-1])  # Remove last Dense\n",
        "train_cnn_features = feature_extractor_cnn.predict(X_train)\n",
        "val_cnn_features = feature_extractor_cnn.predict(X_val)\n",
        "test_cnn_features = feature_extractor_cnn.predict(X_test)\n",
        "\n",
        "# Reuse the evaluate_classifier function to train classifiers on CNN-extracted features\n",
        "def evaluate_classifier_cnn(clf, clf_name):\n",
        "    # Train classifier on the extracted CNN features\n",
        "    clf.fit(train_cnn_features, y_train)\n",
        "\n",
        "    # Predict on the test set using the classifier\n",
        "    y_pred = clf.predict(test_cnn_features)\n",
        "\n",
        "    # Evaluate accuracy on the test set\n",
        "    test_acc = accuracy_score(y_test, y_pred)\n",
        "    print(f\"{clf_name} on CNN-Extracted Features Test Accuracy: {test_acc:.4f}\")\n",
        "\n",
        "# 1. RandomForest Classifier on CNN features\n",
        "rf_classifier = RandomForestClassifier(n_estimators=100)\n",
        "evaluate_classifier_cnn(rf_classifier, \"RandomForest\")\n",
        "\n",
        "# 2. XGBoost Classifier on CNN features\n",
        "xgb_classifier = XGBClassifier(use_label_encoder=False, eval_metric='logloss')\n",
        "evaluate_classifier_cnn(xgb_classifier, \"XGBoost\")\n",
        "\n",
        "# 3. Logistic Regression Classifier on CNN features\n",
        "logreg_classifier = LogisticRegression(max_iter=1000, C= 0.1, penalty= 'l2', solver='liblinear')\n",
        "evaluate_classifier_cnn(logreg_classifier, \"Logistic Regression\")\n",
        "n_params = logreg_classifier.coef_.size + logreg_classifier.intercept_.size\n",
        "print(f\"Number of parameters: {n_params}\")\n",
        "\n",
        "# 4. SVM Classifier on CNN features\n",
        "svm_classifier = SVC(C=1, gamma = 'scale', kernel='linear')\n",
        "evaluate_classifier_cnn(svm_classifier, \"SVM\")\n",
        "n_support_vectors = svm_classifier.support_vectors_.shape[0]\n",
        "print(f\"Number of support vectors: {n_support_vectors}\")"
      ],
      "metadata": {
        "colab": {
          "base_uri": "https://localhost:8080/"
        },
        "id": "pRbN_BiOWJHO",
        "outputId": "f4222d62-dae7-4c22-d68b-94d429080bbb"
      },
      "execution_count": 3,
      "outputs": [
        {
          "output_type": "stream",
          "name": "stdout",
          "text": [
            "\u001b[1m177/177\u001b[0m \u001b[32m━━━━━━━━━━━━━━━━━━━━\u001b[0m\u001b[37m\u001b[0m \u001b[1m1s\u001b[0m 2ms/step\n",
            "\u001b[1m45/45\u001b[0m \u001b[32m━━━━━━━━━━━━━━━━━━━━\u001b[0m\u001b[37m\u001b[0m \u001b[1m0s\u001b[0m 5ms/step\n",
            "\u001b[1m16/16\u001b[0m \u001b[32m━━━━━━━━━━━━━━━━━━━━\u001b[0m\u001b[37m\u001b[0m \u001b[1m0s\u001b[0m 2ms/step \n",
            "RandomForest on CNN-Extracted Features Test Accuracy: 0.9611\n"
          ]
        },
        {
          "output_type": "stream",
          "name": "stderr",
          "text": [
            "/usr/local/lib/python3.10/dist-packages/xgboost/core.py:158: UserWarning: [17:49:35] WARNING: /workspace/src/learner.cc:740: \n",
            "Parameters: { \"use_label_encoder\" } are not used.\n",
            "\n",
            "  warnings.warn(smsg, UserWarning)\n"
          ]
        },
        {
          "output_type": "stream",
          "name": "stdout",
          "text": [
            "XGBoost on CNN-Extracted Features Test Accuracy: 0.9632\n",
            "Logistic Regression on CNN-Extracted Features Test Accuracy: 0.9611\n",
            "Number of parameters: 73\n",
            "SVM on CNN-Extracted Features Test Accuracy: 0.9591\n",
            "Number of support vectors: 119\n"
          ]
        }
      ]
    },
    {
      "cell_type": "markdown",
      "source": [
        "Accuracy with different splits"
      ],
      "metadata": {
        "id": "GD-FpWuUWaE4"
      }
    },
    {
      "cell_type": "code",
      "source": [
        "import matplotlib.pyplot as plt  # Import for plotting\n",
        "\n",
        "# Define the percentages of training data to use\n",
        "training_percentages = [0.2, 0.4, 0.6, 0.8, 1.0]\n",
        "validation_accuracies = []\n",
        "\n",
        "# Use your existing training and validation data\n",
        "X_train_full = X_train\n",
        "y_train_full = y_train\n",
        "\n",
        "# Loop over different training percentages\n",
        "for pct in training_percentages:\n",
        "    print(f\"\\nTraining with {int(pct * 100)}% of the training data...\")\n",
        "    # Determine the number of samples to use\n",
        "    num_samples = int(len(X_train_full) * pct)\n",
        "    X_train_subset = X_train_full[:num_samples]\n",
        "    y_train_subset = y_train_full[:num_samples]\n",
        "\n",
        "    # Build and compile your model (e.g., CNN)\n",
        "    # Adjust the model architecture as per your earlier code\n",
        "    model = Sequential([\n",
        "        Embedding(input_dim=vocab_size, output_dim=embedding_dim, input_length=sequence_length),\n",
        "        Conv1D(filters=num_filters, kernel_size=kernel_size, activation='relu'),\n",
        "        Conv1D(filters=num_filters, kernel_size=kernel_size, activation='relu'),\n",
        "        Flatten(),\n",
        "        Dense(1, activation='sigmoid')  # Binary classification\n",
        "    ])\n",
        "    model.compile(optimizer='adam', loss='binary_crossentropy', metrics=['accuracy'])\n",
        "\n",
        "    # Train the model on the subset\n",
        "    history = model.fit(X_train_subset, y_train_subset, epochs=10, batch_size=16,\n",
        "                        validation_data=(X_val, y_val), verbose=0)\n",
        "\n",
        "    # Get the last validation accuracy\n",
        "    val_accuracy = history.history['val_accuracy'][-1]\n",
        "    validation_accuracies.append(val_accuracy)\n",
        "    print(f\"Validation Accuracy with {int(pct * 100)}% training data: {val_accuracy:.4f}\")\n",
        "\n",
        "# Plot validation accuracy vs percentage of training data\n",
        "plt.figure(figsize=(8,6))\n",
        "plt.plot([int(pct * 100) for pct in training_percentages], validation_accuracies, marker='o')\n",
        "plt.title('Validation Accuracy vs Training Data Percentage')\n",
        "plt.xlabel('Percentage of Training Data Used (%)')\n",
        "plt.ylabel('Validation Accuracy')\n",
        "plt.xticks([20, 40, 60, 80, 100])\n",
        "plt.grid(True)\n",
        "plt.show()\n"
      ],
      "metadata": {
        "colab": {
          "base_uri": "https://localhost:8080/",
          "height": 824
        },
        "id": "AYms3otRWcDe",
        "outputId": "6278d3a5-8416-4fe1-de63-e01043f37b59"
      },
      "execution_count": 5,
      "outputs": [
        {
          "output_type": "stream",
          "name": "stdout",
          "text": [
            "\n",
            "Training with 20% of the training data...\n",
            "Validation Accuracy with 20% training data: 0.8517\n",
            "\n",
            "Training with 40% of the training data...\n",
            "Validation Accuracy with 40% training data: 0.9117\n",
            "\n",
            "Training with 60% of the training data...\n",
            "Validation Accuracy with 60% training data: 0.9336\n",
            "\n",
            "Training with 80% of the training data...\n",
            "Validation Accuracy with 80% training data: 0.9555\n",
            "\n",
            "Training with 100% of the training data...\n",
            "Validation Accuracy with 100% training data: 0.9718\n"
          ]
        },
        {
          "output_type": "display_data",
          "data": {
            "text/plain": [
              "<Figure size 800x600 with 1 Axes>"
            ],
            "image/png": "[encoded data removed]"
          },
          "metadata": {}
        }
      ]
    },
    {
      "cell_type": "code",
      "source": [
        "def create_cnn_model(vocab_size, embedding_dim, sequence_length):\n",
        "    model = Sequential([\n",
        "        Embedding(input_dim=vocab_size, output_dim=embedding_dim, input_length=sequence_length),\n",
        "        Conv1D(filters=8, kernel_size=3, activation='relu'),\n",
        "        Conv1D(filters=8, kernel_size=3, activation='relu'),\n",
        "        Flatten(),\n",
        "        Dense(1, activation='sigmoid')\n",
        "    ])\n",
        "    model.compile(optimizer='adam', loss='binary_crossentropy', metrics=['accuracy'])\n",
        "    return model"
      ],
      "metadata": {
        "id": "9G4PtwQHWurk"
      },
      "execution_count": null,
      "outputs": []
    },
    {
      "cell_type": "code",
      "source": [
        "# Function to train models on varying percentages of training data and test on the validation set\n",
        "def validate_on_varying_data(percentages, model, X, y, X_val, y_val):\n",
        "    val_accuracies_cnn, val_accuracies_logreg, val_accuracies_rf, val_accuracies_svm = [], [], [], []\n",
        "    n_samples = len(X)\n",
        "\n",
        "    for pct in percentages:\n",
        "        # Define subset size for training data\n",
        "        n_subset = int(n_samples * (pct / 100))\n",
        "        X_train_subset = X[:n_subset]\n",
        "        y_train_subset = y[:n_subset]\n",
        "\n",
        "        # 1. Train CNN model\n",
        "        model_copy = create_cnn_model(vocab_size, embedding_dim=10, sequence_length=max_length)\n",
        "        model_copy.fit(X_train_subset, y_train_subset, epochs=5, batch_size=32, verbose=0)\n",
        "        val_loss, val_acc_cnn = model_copy.evaluate(X_val, y_val, verbose=0)\n",
        "        val_accuracies_cnn.append(val_acc_cnn)\n",
        "\n",
        "        # Extract CNN features\n",
        "        feature_extractor = Sequential(model_copy.layers[:-1])\n",
        "        train_cnn_features = feature_extractor.predict(X_train_subset)\n",
        "        val_cnn_features = feature_extractor.predict(X_val)\n",
        "\n",
        "        # 2. Logistic Regression on CNN features\n",
        "        logreg = LogisticRegression(max_iter=200)\n",
        "        logreg.fit(train_cnn_features, y_train_subset)\n",
        "        y_val_pred_logreg = logreg.predict(val_cnn_features)\n",
        "        val_accuracies_logreg.append(accuracy_score(y_val, y_val_pred_logreg))\n",
        "\n",
        "        # 3. Random Forest on CNN features\n",
        "        rf_clf = RandomForestClassifier(n_estimators=100, random_state=42)\n",
        "        rf_clf.fit(train_cnn_features, y_train_subset)\n",
        "        y_val_pred_rf = rf_clf.predict(val_cnn_features)\n",
        "        val_accuracies_rf.append(accuracy_score(y_val, y_val_pred_rf))\n",
        "\n",
        "        # 4. SVM on CNN features\n",
        "        svm_clf = SVC(kernel='linear', C=1)\n",
        "        svm_clf.fit(train_cnn_features, y_train_subset)\n",
        "        y_val_pred_svm = svm_clf.predict(val_cnn_features)\n",
        "        val_accuracies_svm.append(accuracy_score(y_val, y_val_pred_svm))\n",
        "\n",
        "    # Plotting validation accuracy\n",
        "    plt.figure(figsize=(10, 6))\n",
        "    plt.plot(percentages, val_accuracies_cnn, label='CNN', marker='o')\n",
        "    plt.plot(percentages, val_accuracies_logreg, label='CNN + Logistic Regression', marker='o')\n",
        "    plt.plot(percentages, val_accuracies_rf, label='CNN + Random Forest', marker='o')\n",
        "    plt.plot(percentages, val_accuracies_svm, label='CNN + SVM', marker='o')\n",
        "    plt.xlabel('Percentage of Training Data')\n",
        "    plt.ylabel('Validation Accuracy')\n",
        "    plt.title('Validation Accuracy vs. Training Data Percentage for Different Models')\n",
        "    plt.legend(loc='lower right')\n",
        "    plt.grid(True)\n",
        "    plt.show()\n",
        "\n",
        "# Define percentages of training data to experiment with\n",
        "percentages = [20, 40, 60, 80, 100]\n",
        "\n",
        "# Call the function\n",
        "validate_on_varying_data(percentages, model, X_train, y_train, X_val, y_val)"
      ],
      "metadata": {
        "id": "6n_4EKOqWzxH"
      },
      "execution_count": null,
      "outputs": []
    }
  ]
}